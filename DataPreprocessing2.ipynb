{
 "cells": [
  {
   "cell_type": "code",
   "execution_count": 1,
   "id": "72430e91",
   "metadata": {},
   "outputs": [],
   "source": [
    "import os\n",
    "import json\n",
    "import pandas as pd\n",
    "from tqdm import tqdm #  진행상황을 피드백으로 제공"
   ]
  },
  {
   "cell_type": "code",
   "execution_count": 2,
   "id": "57ea094b",
   "metadata": {},
   "outputs": [
    {
     "name": "stdout",
     "output_type": "stream",
     "text": [
      "/home/danbibibi/jupyter/data\n"
     ]
    }
   ],
   "source": [
    "cd data"
   ]
  },
  {
   "cell_type": "code",
   "execution_count": 3,
   "id": "28ffc2b9",
   "metadata": {},
   "outputs": [],
   "source": [
    "with open('handwriting_data_info1.json', 'r', encoding='utf-8') as printed_data:\n",
    "    data = json.load(printed_data)"
   ]
  },
  {
   "cell_type": "code",
   "execution_count": 4,
   "id": "124a4436",
   "metadata": {},
   "outputs": [
    {
     "data": {
      "text/plain": [
       "dict"
      ]
     },
     "execution_count": 4,
     "metadata": {},
     "output_type": "execute_result"
    }
   ],
   "source": [
    "type(data)"
   ]
  },
  {
   "cell_type": "code",
   "execution_count": 5,
   "id": "027d6b1e",
   "metadata": {},
   "outputs": [],
   "source": [
    "data_anno = data['annotations']"
   ]
  },
  {
   "cell_type": "code",
   "execution_count": 6,
   "id": "0f0a8c75",
   "metadata": {},
   "outputs": [
    {
     "data": {
      "text/plain": [
       "[{'id': '00000002',\n",
       "  'image_id': '00000002',\n",
       "  'text': '이 죽어갔다\"며 \"문 후보는 당시 민정수석으로 공권력 집행의 최종 결',\n",
       "  'attributes': {'type': '문장', 'gender': '여', 'age': '28', 'job': '직장인'}},\n",
       " {'id': '00000003',\n",
       "  'image_id': '00000003',\n",
       "  'text': '정권자였는데 이에 대한 사과가 우선\"이라고 했다. 한편 문 후보와 김',\n",
       "  'attributes': {'type': '문장', 'gender': '여', 'age': '28', 'job': '직장인'}},\n",
       " {'id': '00000004',\n",
       "  'image_id': '00000004',\n",
       "  'text': '위원장과의 악연도 화제였다. 두 사람의 악연은 지난 2003년 철도노',\n",
       "  'attributes': {'type': '문장', 'gender': '여', 'age': '28', 'job': '직장인'}},\n",
       " {'id': '00000005',\n",
       "  'image_id': '00000005',\n",
       "  'text': '조 파업 때로 거슬러 올라 간다. 문 후보는 당시 청와대 민정수석으로',\n",
       "  'attributes': {'type': '문장', 'gender': '여', 'age': '28', 'job': '직장인'}},\n",
       " {'id': '00000006',\n",
       "  'image_id': '00000006',\n",
       "  'text': '노조 파업에 공권력 투입을 사실상 결정했고, 김 위원장은 철도노조',\n",
       "  'attributes': {'type': '문장', 'gender': '여', 'age': '28', 'job': '직장인'}}]"
      ]
     },
     "execution_count": 6,
     "metadata": {},
     "output_type": "execute_result"
    }
   ],
   "source": [
    "data_anno[:5]"
   ]
  },
  {
   "cell_type": "code",
   "execution_count": 7,
   "id": "cae7b418",
   "metadata": {},
   "outputs": [
    {
     "data": {
      "text/plain": [
       "1170622"
      ]
     },
     "execution_count": 7,
     "metadata": {},
     "output_type": "execute_result"
    }
   ],
   "source": [
    "len(data_anno)"
   ]
  },
  {
   "cell_type": "code",
   "execution_count": 8,
   "id": "9fcd77ec",
   "metadata": {},
   "outputs": [
    {
     "data": {
      "text/plain": [
       "[{'id': '00001698',\n",
       "  'image_id': '00001698',\n",
       "  'text': '헳',\n",
       "  'attributes': {'type': '글자(음절)', 'gender': '남', 'age': '25', 'job': '대학생'}},\n",
       " {'id': '00001699',\n",
       "  'image_id': '00001699',\n",
       "  'text': '헴',\n",
       "  'attributes': {'type': '글자(음절)', 'gender': '남', 'age': '25', 'job': '대학생'}},\n",
       " {'id': '00001700',\n",
       "  'image_id': '00001700',\n",
       "  'text': '헵',\n",
       "  'attributes': {'type': '글자(음절)', 'gender': '남', 'age': '25', 'job': '대학생'}},\n",
       " {'id': '00001701',\n",
       "  'image_id': '00001701',\n",
       "  'text': '헶',\n",
       "  'attributes': {'type': '글자(음절)', 'gender': '남', 'age': '25', 'job': '대학생'}},\n",
       " {'id': '00001702',\n",
       "  'image_id': '00001702',\n",
       "  'text': '헷',\n",
       "  'attributes': {'type': '글자(음절)', 'gender': '남', 'age': '25', 'job': '대학생'}}]"
      ]
     },
     "execution_count": 8,
     "metadata": {},
     "output_type": "execute_result"
    }
   ],
   "source": [
    "anno_list = [] # annotation을 담을 배열\n",
    "id_list = [] # 이미지 id를 담을 배열\n",
    "syllable_list = [] # 음절을 담을 배열 \n",
    "\n",
    "for i in range(0, len(data_anno)):\n",
    "    if data_anno[i]['attributes']['type'] == '글자(음절)':\n",
    "        anno_list.append(data_anno[i])\n",
    "        id_list.append(data_anno[i]['id'])\n",
    "        syllable_list.append(data_anno[i]['text'])\n",
    "anno_list[:5]"
   ]
  },
  {
   "cell_type": "code",
   "execution_count": 9,
   "id": "5e076a08",
   "metadata": {},
   "outputs": [],
   "source": [
    "# 경로 + label 저장할 list\n",
    "syllable_file = []"
   ]
  },
  {
   "cell_type": "code",
   "execution_count": 10,
   "id": "3069a372",
   "metadata": {},
   "outputs": [
    {
     "data": {
      "text/plain": [
       "['00172367.png',\n",
       " '00493683.png',\n",
       " '00219169.png',\n",
       " '00315313.png',\n",
       " '00013988.png']"
      ]
     },
     "execution_count": 10,
     "metadata": {},
     "output_type": "execute_result"
    }
   ],
   "source": [
    "# 1_syllable 파일 경로 + label\n",
    "syllable1_filename = os.listdir(\"p_syllable\")\n",
    "syllable1_filename[:5]"
   ]
  },
  {
   "cell_type": "code",
   "execution_count": 11,
   "id": "d5afe304",
   "metadata": {},
   "outputs": [
    {
     "data": {
      "text/plain": [
       "['00001698', '00001699', '00001700', '00001701', '00001702']"
      ]
     },
     "execution_count": 11,
     "metadata": {},
     "output_type": "execute_result"
    }
   ],
   "source": [
    "id_list[:5]"
   ]
  },
  {
   "cell_type": "code",
   "execution_count": 12,
   "id": "f65cf077",
   "metadata": {},
   "outputs": [
    {
     "name": "stderr",
     "output_type": "stream",
     "text": [
      "100%|██████████| 532659/532659 [1:20:23<00:00, 110.43it/s]\n"
     ]
    }
   ],
   "source": [
    "for i in tqdm(range(0,len(syllable1_filename))):\n",
    "    if syllable1_filename[i][:-4] in id_list:\n",
    "        path = '/data/p_syllable/' + syllable1_filename[i]\n",
    "        number = id_list.index(syllable1_filename[i][:-4]) # 배열에서 원하는 id의 위치 찾기\n",
    "        text = syllable_list[number]\n",
    "        syllable_file.append([path, text])"
   ]
  },
  {
   "cell_type": "code",
   "execution_count": 13,
   "id": "0971c991",
   "metadata": {},
   "outputs": [
    {
     "name": "stdout",
     "output_type": "stream",
     "text": [
      "349241\n"
     ]
    },
    {
     "data": {
      "text/plain": [
       "[['/data/p_syllable/00172367.png', '뀦'],\n",
       " ['/data/p_syllable/00493683.png', '끡'],\n",
       " ['/data/p_syllable/00315313.png', '휔'],\n",
       " ['/data/p_syllable/00343974.png', '푋'],\n",
       " ['/data/p_syllable/00234912.png', '쨀']]"
      ]
     },
     "execution_count": 13,
     "metadata": {},
     "output_type": "execute_result"
    }
   ],
   "source": [
    "print(len(syllable_file))\n",
    "syllable_file[:5]"
   ]
  },
  {
   "cell_type": "code",
   "execution_count": 14,
   "id": "492e7590",
   "metadata": {},
   "outputs": [],
   "source": [
    "output_class = '가각간갇갈갉갊감갑값갓갔강갖갗같갚갛개객갠갤갬갭갯갰갱갸갹갼걀걋걍걔걘걜거걱건걷걸걺검겁것겄겅겆겉겊겋게겐겔겜겝겟겠겡겨격겪견겯결겸겹겻겼경곁계곈곌곕곗고곡곤곧골곪곬곯곰곱곳공곶과곽관괄괆괌괍괏광괘괜괠괩괬괭괴괵괸괼굄굅굇굉교굔굘굡굣구국군굳굴굵굶굻굼굽굿궁궂궈궉권궐궜궝궤궷귀귁귄귈귐귑귓규균귤그극근귿글긁금급긋긍긔기긱긴긷길긺김깁깃깅깆깊까깍깎깐깔깖깜깝깟깠깡깥깨깩깬깰깸깹깻깼깽꺄꺅꺌꺼꺽꺾껀껄껌껍껏껐껑께껙껜껨껫껭껴껸껼꼇꼈꼍꼐꼬꼭꼰꼲꼴꼼꼽꼿꽁꽂꽃꽈꽉꽐꽜꽝꽤꽥꽹꾀꾄꾈꾐꾑꾕꾜꾸꾹꾼꿀꿇꿈꿉꿋꿍꿎꿔꿜꿨꿩꿰꿱꿴꿸뀀뀁뀄뀌뀐뀔뀜뀝뀨끄끅끈끊끌끎끓끔끕끗끙끝끼끽낀낄낌낍낏낑나낙낚난낟날낡낢남납낫났낭낮낯낱낳내낵낸낼냄냅냇냈냉냐냑냔냘냠냥너넉넋넌널넒넓넘넙넛넜넝넣네넥넨넬넴넵넷넸넹녀녁년녈념녑녔녕녘녜녠노녹논놀놂놈놉놋농높놓놔놘놜놨뇌뇐뇔뇜뇝뇟뇨뇩뇬뇰뇹뇻뇽누눅눈눋눌눔눕눗눙눠눴눼뉘뉜뉠뉨뉩뉴뉵뉼늄늅늉느늑는늘늙늚늠늡늣능늦늪늬늰늴니닉닌닐닒님닙닛닝닢다닥닦단닫달닭닮닯닳담답닷닸당닺닻닿대댁댄댈댐댑댓댔댕댜더덕덖던덛덜덞덟덤덥덧덩덫덮데덱덴델뎀뎁뎃뎄뎅뎌뎐뎔뎠뎡뎨뎬도독돈돋돌돎돐돔돕돗동돛돝돠돤돨돼됐되된될됨됩됫됴두둑둔둘둠둡둣둥둬뒀뒈뒝뒤뒨뒬뒵뒷뒹듀듄듈듐듕드득든듣들듦듬듭듯등듸디딕딘딛딜딤딥딧딨딩딪따딱딴딸땀땁땃땄땅땋때땍땐땔땜땝땟땠땡떠떡떤떨떪떫떰떱떳떴떵떻떼떽뗀뗄뗌뗍뗏뗐뗑뗘뗬또똑똔똘똥똬똴뙈뙤뙨뚜뚝뚠뚤뚫뚬뚱뛔뛰뛴뛸뜀뜁뜅뜨뜩뜬뜯뜰뜸뜹뜻띄띈띌띔띕띠띤띨띰띱띳띵라락란랄람랍랏랐랑랒랖랗래랙랜랠램랩랫랬랭랴략랸럇량러럭런럴럼럽럿렀렁렇레렉렌렐렘렙렛렝려력련렬렴렵렷렸령례롄롑롓로록론롤롬롭롯롱롸롼뢍뢨뢰뢴뢸룀룁룃룅료룐룔룝룟룡루룩룬룰룸룹룻룽뤄뤘뤠뤼뤽륀륄륌륏륑류륙륜률륨륩륫륭르륵른를름릅릇릉릊릍릎리릭린릴림립릿링마막만많맏말맑맒맘맙맛망맞맡맣매맥맨맬맴맵맷맸맹맺먀먁먈먕머먹먼멀멂멈멉멋멍멎멓메멕멘멜멤멥멧멨멩며멱면멸몃몄명몇몌모목몫몬몰몲몸몹못몽뫄뫈뫘뫙뫼묀묄묍묏묑묘묜묠묩묫무묵묶문묻물묽묾뭄뭅뭇뭉뭍뭏뭐뭔뭘뭡뭣뭬뮈뮌뮐뮤뮨뮬뮴뮷므믄믈믐믓미믹민믿밀밂밈밉밋밌밍및밑바박밖밗반받발밝밞밟밤밥밧방밭배백밴밸뱀뱁뱃뱄뱅뱉뱌뱍뱐뱝버벅번벋벌벎범법벗벙벚베벡벤벧벨벰벱벳벴벵벼벽변별볍볏볐병볕볘볜보복볶본볼봄봅봇봉봐봔봤봬뵀뵈뵉뵌뵐뵘뵙뵤뵨부북분붇불붉붊붐붑붓붕붙붚붜붤붰붸뷔뷕뷘뷜뷩뷰뷴뷸븀븃븅브븍븐블븜븝븟비빅빈빌빎빔빕빗빙빚빛빠빡빤빨빪빰빱빳빴빵빻빼빽뺀뺄뺌뺍뺏뺐뺑뺘뺙뺨뻐뻑뻔뻗뻘뻠뻣뻤뻥뻬뼁뼈뼉뼘뼙뼛뼜뼝뽀뽁뽄뽈뽐뽑뽕뾔뾰뿅뿌뿍뿐뿔뿜뿟뿡쀼쁑쁘쁜쁠쁨쁩삐삑삔삘삠삡삣삥사삭삯산삳살삵삶삼삽삿샀상샅새색샌샐샘샙샛샜생샤샥샨샬샴샵샷샹섀섄섈섐섕서석섞섟선섣설섦섧섬섭섯섰성섶세섹센셀셈셉셋셌셍셔셕션셜셤셥셧셨셩셰셴셸솅소속솎손솔솖솜솝솟송솥솨솩솬솰솽쇄쇈쇌쇔쇗쇘쇠쇤쇨쇰쇱쇳쇼쇽숀숄숌숍숏숑수숙순숟술숨숩숫숭숯숱숲숴쉈쉐쉑쉔쉘쉠쉥쉬쉭쉰쉴쉼쉽쉿슁슈슉슐슘슛슝스슥슨슬슭슴습슷승시식신싣실싫심십싯싱싶싸싹싻싼쌀쌈쌉쌌쌍쌓쌔쌕쌘쌜쌤쌥쌨쌩썅써썩썬썰썲썸썹썼썽쎄쎈쎌쏀쏘쏙쏜쏟쏠쏢쏨쏩쏭쏴쏵쏸쐈쐐쐤쐬쐰쐴쐼쐽쑈쑤쑥쑨쑬쑴쑵쑹쒀쒔쒜쒸쒼쓩쓰쓱쓴쓸쓺쓿씀씁씌씐씔씜씨씩씬씰씸씹씻씽아악안앉않알앍앎앓암압앗았앙앝앞애액앤앨앰앱앳앴앵야약얀얄얇얌얍얏양얕얗얘얜얠얩어억언얹얻얼얽얾엄업없엇었엉엊엌엎에엑엔엘엠엡엣엥여역엮연열엶엷염엽엾엿였영옅옆옇예옌옐옘옙옛옜오옥온올옭옮옰옳옴옵옷옹옻와왁완왈왐왑왓왔왕왜왝왠왬왯왱외왹왼욀욈욉욋욍요욕욘욜욤욥욧용우욱운울욹욺움웁웃웅워웍원월웜웝웠웡웨웩웬웰웸웹웽위윅윈윌윔윕윗윙유육윤율윰윱윳융윷으윽은을읊음읍읏응읒읓읔읕읖읗의읜읠읨읫이익인일읽읾잃임입잇있잉잊잎자작잔잖잗잘잚잠잡잣잤장잦재잭잰잴잼잽잿쟀쟁쟈쟉쟌쟎쟐쟘쟝쟤쟨쟬저적전절젊점접젓정젖제젝젠젤젬젭젯젱져젼졀졈졉졌졍졔조족존졸졺좀좁좃종좆좇좋좌좍좔좝좟좡좨좼좽죄죈죌죔죕죗죙죠죡죤죵주죽준줄줅줆줌줍줏중줘줬줴쥐쥑쥔쥘쥠쥡쥣쥬쥰쥴쥼즈즉즌즐즘즙즛증지직진짇질짊짐집짓징짖짙짚짜짝짠짢짤짧짬짭짯짰짱째짹짼쨀쨈쨉쨋쨌쨍쨔쨘쨩쩌쩍쩐쩔쩜쩝쩟쩠쩡쩨쩽쪄쪘쪼쪽쫀쫄쫌쫍쫏쫑쫓쫘쫙쫠쫬쫴쬈쬐쬔쬘쬠쬡쭁쭈쭉쭌쭐쭘쭙쭝쭤쭸쭹쮜쮸쯔쯤쯧쯩찌찍찐찔찜찝찡찢찧차착찬찮찰참찹찻찼창찾채책챈챌챔챕챗챘챙챠챤챦챨챰챵처척천철첨첩첫첬청체첵첸첼쳄쳅쳇쳉쳐쳔쳤쳬쳰촁초촉촌촐촘촙촛총촤촨촬촹최쵠쵤쵬쵭쵯쵱쵸춈추축춘출춤춥춧충춰췄췌췐취췬췰췸췹췻췽츄츈츌츔츙츠측츤츨츰츱츳층치칙친칟칠칡침칩칫칭카칵칸칼캄캅캇캉캐캑캔캘캠캡캣캤캥캬캭컁커컥컨컫컬컴컵컷컸컹케켁켄켈켐켑켓켕켜켠켤켬켭켯켰켱켸코콕콘콜콤콥콧콩콰콱콴콸쾀쾅쾌쾡쾨쾰쿄쿠쿡쿤쿨쿰쿱쿳쿵쿼퀀퀄퀑퀘퀭퀴퀵퀸퀼큄큅큇큉큐큔큘큠크큭큰클큼큽킁키킥킨킬킴킵킷킹타탁탄탈탉탐탑탓탔탕태택탠탤탬탭탯탰탱탸턍터턱턴털턺텀텁텃텄텅테텍텐텔템텝텟텡텨텬텼톄톈토톡톤톨톰톱톳통톺톼퇀퇘퇴퇸툇툉툐투툭툰툴툼툽툿퉁퉈퉜퉤튀튁튄튈튐튑튕튜튠튤튬튱트특튼튿틀틂틈틉틋틔틘틜틤틥티틱틴틸팀팁팃팅파팍팎판팔팖팜팝팟팠팡팥패팩팬팰팸팹팻팼팽퍄퍅퍼퍽펀펄펌펍펏펐펑페펙펜펠펨펩펫펭펴편펼폄폅폈평폐폘폡폣포폭폰폴폼폽폿퐁퐈퐝푀푄표푠푤푭푯푸푹푼푿풀풂품풉풋풍풔풩퓌퓐퓔퓜퓟퓨퓬퓰퓸퓻퓽프픈플픔픕픗피픽핀필핌핍핏핑하학한할핥함합핫항해핵핸핼햄햅햇했행햐향허헉헌헐헒험헙헛헝헤헥헨헬헴헵헷헹혀혁현혈혐협혓혔형혜혠혤혭호혹혼홀홅홈홉홋홍홑화확환활홧황홰홱홴횃횅회획횐횔횝횟횡효횬횰횹횻후훅훈훌훑훔훗훙훠훤훨훰훵훼훽휀휄휑휘휙휜휠휨휩휫휭휴휵휸휼흄흇흉흐흑흔흖흗흘흙흠흡흣흥흩희흰흴흼흽힁히힉힌힐힘힙힛힝'"
   ]
  },
  {
   "cell_type": "code",
   "execution_count": 15,
   "id": "bc46dc77",
   "metadata": {},
   "outputs": [],
   "source": [
    "printed_hangeul_2350 = []"
   ]
  },
  {
   "cell_type": "code",
   "execution_count": 16,
   "id": "4545393d",
   "metadata": {},
   "outputs": [
    {
     "name": "stderr",
     "output_type": "stream",
     "text": [
      "100%|██████████| 349241/349241 [00:00<00:00, 1307563.56it/s]"
     ]
    },
    {
     "name": "stdout",
     "output_type": "stream",
     "text": [
      "73076\n"
     ]
    },
    {
     "name": "stderr",
     "output_type": "stream",
     "text": [
      "\n"
     ]
    },
    {
     "data": {
      "text/plain": [
       "[['/data/p_syllable/00234912.png', '쨀'],\n",
       " ['/data/p_syllable/00180981.png', '탈'],\n",
       " ['/data/p_syllable/00362895.png', '웩'],\n",
       " ['/data/p_syllable/00522054.png', '놘'],\n",
       " ['/data/p_syllable/00510559.png', '맵']]"
      ]
     },
     "execution_count": 16,
     "metadata": {},
     "output_type": "execute_result"
    }
   ],
   "source": [
    "for syllable in tqdm(syllable_file):\n",
    "    if syllable[1] in output_class:\n",
    "        printed_hangeul_2350.append(syllable)\n",
    "        \n",
    "print(len(printed_hangeul_2350))\n",
    "printed_hangeul_2350[:5]"
   ]
  },
  {
   "cell_type": "code",
   "execution_count": 18,
   "id": "811174c2",
   "metadata": {},
   "outputs": [
    {
     "data": {
      "text/html": [
       "<div>\n",
       "<style scoped>\n",
       "    .dataframe tbody tr th:only-of-type {\n",
       "        vertical-align: middle;\n",
       "    }\n",
       "\n",
       "    .dataframe tbody tr th {\n",
       "        vertical-align: top;\n",
       "    }\n",
       "\n",
       "    .dataframe thead th {\n",
       "        text-align: right;\n",
       "    }\n",
       "</style>\n",
       "<table border=\"1\" class=\"dataframe\">\n",
       "  <thead>\n",
       "    <tr style=\"text-align: right;\">\n",
       "      <th></th>\n",
       "      <th>img_path</th>\n",
       "      <th>label</th>\n",
       "    </tr>\n",
       "  </thead>\n",
       "  <tbody>\n",
       "    <tr>\n",
       "      <th>0</th>\n",
       "      <td>/data/p_syllable/00234912.png</td>\n",
       "      <td>쨀</td>\n",
       "    </tr>\n",
       "    <tr>\n",
       "      <th>1</th>\n",
       "      <td>/data/p_syllable/00180981.png</td>\n",
       "      <td>탈</td>\n",
       "    </tr>\n",
       "    <tr>\n",
       "      <th>2</th>\n",
       "      <td>/data/p_syllable/00362895.png</td>\n",
       "      <td>웩</td>\n",
       "    </tr>\n",
       "    <tr>\n",
       "      <th>3</th>\n",
       "      <td>/data/p_syllable/00522054.png</td>\n",
       "      <td>놘</td>\n",
       "    </tr>\n",
       "    <tr>\n",
       "      <th>4</th>\n",
       "      <td>/data/p_syllable/00510559.png</td>\n",
       "      <td>맵</td>\n",
       "    </tr>\n",
       "  </tbody>\n",
       "</table>\n",
       "</div>"
      ],
      "text/plain": [
       "                        img_path label\n",
       "0  /data/p_syllable/00234912.png     쨀\n",
       "1  /data/p_syllable/00180981.png     탈\n",
       "2  /data/p_syllable/00362895.png     웩\n",
       "3  /data/p_syllable/00522054.png     놘\n",
       "4  /data/p_syllable/00510559.png     맵"
      ]
     },
     "execution_count": 18,
     "metadata": {},
     "output_type": "execute_result"
    }
   ],
   "source": [
    "# dataframe으로 변환\n",
    "df = pd.DataFrame(printed_hangeul_2350)\n",
    "df.columns = ['img_path', 'label']\n",
    "df.head()"
   ]
  },
  {
   "cell_type": "code",
   "execution_count": 20,
   "id": "692435c1",
   "metadata": {},
   "outputs": [
    {
     "data": {
      "text/html": [
       "<div>\n",
       "<style scoped>\n",
       "    .dataframe tbody tr th:only-of-type {\n",
       "        vertical-align: middle;\n",
       "    }\n",
       "\n",
       "    .dataframe tbody tr th {\n",
       "        vertical-align: top;\n",
       "    }\n",
       "\n",
       "    .dataframe thead th {\n",
       "        text-align: right;\n",
       "    }\n",
       "</style>\n",
       "<table border=\"1\" class=\"dataframe\">\n",
       "  <thead>\n",
       "    <tr style=\"text-align: right;\">\n",
       "      <th></th>\n",
       "      <th>img_path</th>\n",
       "      <th>label</th>\n",
       "    </tr>\n",
       "  </thead>\n",
       "  <tbody>\n",
       "    <tr>\n",
       "      <th>0</th>\n",
       "      <td>/data/p_syllable/00234912.png</td>\n",
       "      <td>쨀</td>\n",
       "    </tr>\n",
       "    <tr>\n",
       "      <th>1</th>\n",
       "      <td>/data/p_syllable/00180981.png</td>\n",
       "      <td>탈</td>\n",
       "    </tr>\n",
       "    <tr>\n",
       "      <th>2</th>\n",
       "      <td>/data/p_syllable/00362895.png</td>\n",
       "      <td>웩</td>\n",
       "    </tr>\n",
       "    <tr>\n",
       "      <th>3</th>\n",
       "      <td>/data/p_syllable/00522054.png</td>\n",
       "      <td>놘</td>\n",
       "    </tr>\n",
       "    <tr>\n",
       "      <th>4</th>\n",
       "      <td>/data/p_syllable/00510559.png</td>\n",
       "      <td>맵</td>\n",
       "    </tr>\n",
       "    <tr>\n",
       "      <th>...</th>\n",
       "      <td>...</td>\n",
       "      <td>...</td>\n",
       "    </tr>\n",
       "    <tr>\n",
       "      <th>73071</th>\n",
       "      <td>/data/p_syllable/00035507.png</td>\n",
       "      <td>맡</td>\n",
       "    </tr>\n",
       "    <tr>\n",
       "      <th>73072</th>\n",
       "      <td>/data/p_syllable/00241276.png</td>\n",
       "      <td>뼜</td>\n",
       "    </tr>\n",
       "    <tr>\n",
       "      <th>73073</th>\n",
       "      <td>/data/p_syllable/00139312.png</td>\n",
       "      <td>잘</td>\n",
       "    </tr>\n",
       "    <tr>\n",
       "      <th>73074</th>\n",
       "      <td>/data/p_syllable/00150848.png</td>\n",
       "      <td>매</td>\n",
       "    </tr>\n",
       "    <tr>\n",
       "      <th>73075</th>\n",
       "      <td>/data/p_syllable/00162878.png</td>\n",
       "      <td>쭙</td>\n",
       "    </tr>\n",
       "  </tbody>\n",
       "</table>\n",
       "<p>73076 rows × 2 columns</p>\n",
       "</div>"
      ],
      "text/plain": [
       "                            img_path label\n",
       "0      /data/p_syllable/00234912.png     쨀\n",
       "1      /data/p_syllable/00180981.png     탈\n",
       "2      /data/p_syllable/00362895.png     웩\n",
       "3      /data/p_syllable/00522054.png     놘\n",
       "4      /data/p_syllable/00510559.png     맵\n",
       "...                              ...   ...\n",
       "73071  /data/p_syllable/00035507.png     맡\n",
       "73072  /data/p_syllable/00241276.png     뼜\n",
       "73073  /data/p_syllable/00139312.png     잘\n",
       "73074  /data/p_syllable/00150848.png     매\n",
       "73075  /data/p_syllable/00162878.png     쭙\n",
       "\n",
       "[73076 rows x 2 columns]"
      ]
     },
     "execution_count": 20,
     "metadata": {},
     "output_type": "execute_result"
    }
   ],
   "source": [
    "df"
   ]
  },
  {
   "cell_type": "code",
   "execution_count": 21,
   "id": "7500cd96",
   "metadata": {},
   "outputs": [
    {
     "data": {
      "text/plain": [
       "'/home/danbibibi/jupyter/data'"
      ]
     },
     "execution_count": 21,
     "metadata": {},
     "output_type": "execute_result"
    }
   ],
   "source": [
    "pwd"
   ]
  },
  {
   "cell_type": "code",
   "execution_count": 22,
   "id": "46779e3e",
   "metadata": {},
   "outputs": [
    {
     "data": {
      "text/html": [
       "<div>\n",
       "<style scoped>\n",
       "    .dataframe tbody tr th:only-of-type {\n",
       "        vertical-align: middle;\n",
       "    }\n",
       "\n",
       "    .dataframe tbody tr th {\n",
       "        vertical-align: top;\n",
       "    }\n",
       "\n",
       "    .dataframe thead th {\n",
       "        text-align: right;\n",
       "    }\n",
       "</style>\n",
       "<table border=\"1\" class=\"dataframe\">\n",
       "  <thead>\n",
       "    <tr style=\"text-align: right;\">\n",
       "      <th></th>\n",
       "      <th>img_path</th>\n",
       "      <th>label</th>\n",
       "    </tr>\n",
       "  </thead>\n",
       "  <tbody>\n",
       "    <tr>\n",
       "      <th>0</th>\n",
       "      <td>/data/1_syllable/00165717.png</td>\n",
       "      <td>훌</td>\n",
       "    </tr>\n",
       "    <tr>\n",
       "      <th>1</th>\n",
       "      <td>/data/1_syllable/00094922.png</td>\n",
       "      <td>흴</td>\n",
       "    </tr>\n",
       "    <tr>\n",
       "      <th>2</th>\n",
       "      <td>/data/1_syllable/00163366.png</td>\n",
       "      <td>뭡</td>\n",
       "    </tr>\n",
       "    <tr>\n",
       "      <th>3</th>\n",
       "      <td>/data/1_syllable/00189967.png</td>\n",
       "      <td>딪</td>\n",
       "    </tr>\n",
       "    <tr>\n",
       "      <th>4</th>\n",
       "      <td>/data/1_syllable/00135120.png</td>\n",
       "      <td>염</td>\n",
       "    </tr>\n",
       "    <tr>\n",
       "      <th>...</th>\n",
       "      <td>...</td>\n",
       "      <td>...</td>\n",
       "    </tr>\n",
       "    <tr>\n",
       "      <th>152467</th>\n",
       "      <td>/data/2_syllable/01188949.png</td>\n",
       "      <td>붓</td>\n",
       "    </tr>\n",
       "    <tr>\n",
       "      <th>152468</th>\n",
       "      <td>/data/2_syllable/00549013.png</td>\n",
       "      <td>뎄</td>\n",
       "    </tr>\n",
       "    <tr>\n",
       "      <th>152469</th>\n",
       "      <td>/data/2_syllable/00380048.png</td>\n",
       "      <td>웍</td>\n",
       "    </tr>\n",
       "    <tr>\n",
       "      <th>152470</th>\n",
       "      <td>/data/2_syllable/00859689.png</td>\n",
       "      <td>윈</td>\n",
       "    </tr>\n",
       "    <tr>\n",
       "      <th>152471</th>\n",
       "      <td>/data/2_syllable/00499030.png</td>\n",
       "      <td>잰</td>\n",
       "    </tr>\n",
       "  </tbody>\n",
       "</table>\n",
       "<p>152472 rows × 2 columns</p>\n",
       "</div>"
      ],
      "text/plain": [
       "                             img_path label\n",
       "0       /data/1_syllable/00165717.png     훌\n",
       "1       /data/1_syllable/00094922.png     흴\n",
       "2       /data/1_syllable/00163366.png     뭡\n",
       "3       /data/1_syllable/00189967.png     딪\n",
       "4       /data/1_syllable/00135120.png     염\n",
       "...                               ...   ...\n",
       "152467  /data/2_syllable/01188949.png     붓\n",
       "152468  /data/2_syllable/00549013.png     뎄\n",
       "152469  /data/2_syllable/00380048.png     웍\n",
       "152470  /data/2_syllable/00859689.png     윈\n",
       "152471  /data/2_syllable/00499030.png     잰\n",
       "\n",
       "[152472 rows x 2 columns]"
      ]
     },
     "execution_count": 22,
     "metadata": {},
     "output_type": "execute_result"
    }
   ],
   "source": [
    "df1 = pd.read_csv('./hangeul_2350.csv')\n",
    "df1"
   ]
  },
  {
   "cell_type": "code",
   "execution_count": 25,
   "id": "5a9f5dc6",
   "metadata": {},
   "outputs": [
    {
     "data": {
      "text/html": [
       "<div>\n",
       "<style scoped>\n",
       "    .dataframe tbody tr th:only-of-type {\n",
       "        vertical-align: middle;\n",
       "    }\n",
       "\n",
       "    .dataframe tbody tr th {\n",
       "        vertical-align: top;\n",
       "    }\n",
       "\n",
       "    .dataframe thead th {\n",
       "        text-align: right;\n",
       "    }\n",
       "</style>\n",
       "<table border=\"1\" class=\"dataframe\">\n",
       "  <thead>\n",
       "    <tr style=\"text-align: right;\">\n",
       "      <th></th>\n",
       "      <th>img_path</th>\n",
       "      <th>label</th>\n",
       "    </tr>\n",
       "  </thead>\n",
       "  <tbody>\n",
       "    <tr>\n",
       "      <th>0</th>\n",
       "      <td>/data/p_syllable/00234912.png</td>\n",
       "      <td>쨀</td>\n",
       "    </tr>\n",
       "    <tr>\n",
       "      <th>1</th>\n",
       "      <td>/data/p_syllable/00180981.png</td>\n",
       "      <td>탈</td>\n",
       "    </tr>\n",
       "    <tr>\n",
       "      <th>2</th>\n",
       "      <td>/data/p_syllable/00362895.png</td>\n",
       "      <td>웩</td>\n",
       "    </tr>\n",
       "    <tr>\n",
       "      <th>3</th>\n",
       "      <td>/data/p_syllable/00522054.png</td>\n",
       "      <td>놘</td>\n",
       "    </tr>\n",
       "    <tr>\n",
       "      <th>4</th>\n",
       "      <td>/data/p_syllable/00510559.png</td>\n",
       "      <td>맵</td>\n",
       "    </tr>\n",
       "    <tr>\n",
       "      <th>...</th>\n",
       "      <td>...</td>\n",
       "      <td>...</td>\n",
       "    </tr>\n",
       "    <tr>\n",
       "      <th>73071</th>\n",
       "      <td>/data/p_syllable/00035507.png</td>\n",
       "      <td>맡</td>\n",
       "    </tr>\n",
       "    <tr>\n",
       "      <th>73072</th>\n",
       "      <td>/data/p_syllable/00241276.png</td>\n",
       "      <td>뼜</td>\n",
       "    </tr>\n",
       "    <tr>\n",
       "      <th>73073</th>\n",
       "      <td>/data/p_syllable/00139312.png</td>\n",
       "      <td>잘</td>\n",
       "    </tr>\n",
       "    <tr>\n",
       "      <th>73074</th>\n",
       "      <td>/data/p_syllable/00150848.png</td>\n",
       "      <td>매</td>\n",
       "    </tr>\n",
       "    <tr>\n",
       "      <th>73075</th>\n",
       "      <td>/data/p_syllable/00162878.png</td>\n",
       "      <td>쭙</td>\n",
       "    </tr>\n",
       "  </tbody>\n",
       "</table>\n",
       "<p>73076 rows × 2 columns</p>\n",
       "</div>"
      ],
      "text/plain": [
       "                            img_path label\n",
       "0      /data/p_syllable/00234912.png     쨀\n",
       "1      /data/p_syllable/00180981.png     탈\n",
       "2      /data/p_syllable/00362895.png     웩\n",
       "3      /data/p_syllable/00522054.png     놘\n",
       "4      /data/p_syllable/00510559.png     맵\n",
       "...                              ...   ...\n",
       "73071  /data/p_syllable/00035507.png     맡\n",
       "73072  /data/p_syllable/00241276.png     뼜\n",
       "73073  /data/p_syllable/00139312.png     잘\n",
       "73074  /data/p_syllable/00150848.png     매\n",
       "73075  /data/p_syllable/00162878.png     쭙\n",
       "\n",
       "[73076 rows x 2 columns]"
      ]
     },
     "execution_count": 25,
     "metadata": {},
     "output_type": "execute_result"
    }
   ],
   "source": [
    "df"
   ]
  },
  {
   "cell_type": "code",
   "execution_count": 23,
   "id": "c4a1efde",
   "metadata": {},
   "outputs": [],
   "source": [
    "final_df = pd.concat([df1, df])"
   ]
  },
  {
   "cell_type": "code",
   "execution_count": 24,
   "id": "2fdfa326",
   "metadata": {},
   "outputs": [
    {
     "data": {
      "text/html": [
       "<div>\n",
       "<style scoped>\n",
       "    .dataframe tbody tr th:only-of-type {\n",
       "        vertical-align: middle;\n",
       "    }\n",
       "\n",
       "    .dataframe tbody tr th {\n",
       "        vertical-align: top;\n",
       "    }\n",
       "\n",
       "    .dataframe thead th {\n",
       "        text-align: right;\n",
       "    }\n",
       "</style>\n",
       "<table border=\"1\" class=\"dataframe\">\n",
       "  <thead>\n",
       "    <tr style=\"text-align: right;\">\n",
       "      <th></th>\n",
       "      <th>img_path</th>\n",
       "      <th>label</th>\n",
       "    </tr>\n",
       "  </thead>\n",
       "  <tbody>\n",
       "    <tr>\n",
       "      <th>0</th>\n",
       "      <td>/data/1_syllable/00165717.png</td>\n",
       "      <td>훌</td>\n",
       "    </tr>\n",
       "    <tr>\n",
       "      <th>1</th>\n",
       "      <td>/data/1_syllable/00094922.png</td>\n",
       "      <td>흴</td>\n",
       "    </tr>\n",
       "    <tr>\n",
       "      <th>2</th>\n",
       "      <td>/data/1_syllable/00163366.png</td>\n",
       "      <td>뭡</td>\n",
       "    </tr>\n",
       "    <tr>\n",
       "      <th>3</th>\n",
       "      <td>/data/1_syllable/00189967.png</td>\n",
       "      <td>딪</td>\n",
       "    </tr>\n",
       "    <tr>\n",
       "      <th>4</th>\n",
       "      <td>/data/1_syllable/00135120.png</td>\n",
       "      <td>염</td>\n",
       "    </tr>\n",
       "    <tr>\n",
       "      <th>...</th>\n",
       "      <td>...</td>\n",
       "      <td>...</td>\n",
       "    </tr>\n",
       "    <tr>\n",
       "      <th>73071</th>\n",
       "      <td>/data/p_syllable/00035507.png</td>\n",
       "      <td>맡</td>\n",
       "    </tr>\n",
       "    <tr>\n",
       "      <th>73072</th>\n",
       "      <td>/data/p_syllable/00241276.png</td>\n",
       "      <td>뼜</td>\n",
       "    </tr>\n",
       "    <tr>\n",
       "      <th>73073</th>\n",
       "      <td>/data/p_syllable/00139312.png</td>\n",
       "      <td>잘</td>\n",
       "    </tr>\n",
       "    <tr>\n",
       "      <th>73074</th>\n",
       "      <td>/data/p_syllable/00150848.png</td>\n",
       "      <td>매</td>\n",
       "    </tr>\n",
       "    <tr>\n",
       "      <th>73075</th>\n",
       "      <td>/data/p_syllable/00162878.png</td>\n",
       "      <td>쭙</td>\n",
       "    </tr>\n",
       "  </tbody>\n",
       "</table>\n",
       "<p>225548 rows × 2 columns</p>\n",
       "</div>"
      ],
      "text/plain": [
       "                            img_path label\n",
       "0      /data/1_syllable/00165717.png     훌\n",
       "1      /data/1_syllable/00094922.png     흴\n",
       "2      /data/1_syllable/00163366.png     뭡\n",
       "3      /data/1_syllable/00189967.png     딪\n",
       "4      /data/1_syllable/00135120.png     염\n",
       "...                              ...   ...\n",
       "73071  /data/p_syllable/00035507.png     맡\n",
       "73072  /data/p_syllable/00241276.png     뼜\n",
       "73073  /data/p_syllable/00139312.png     잘\n",
       "73074  /data/p_syllable/00150848.png     매\n",
       "73075  /data/p_syllable/00162878.png     쭙\n",
       "\n",
       "[225548 rows x 2 columns]"
      ]
     },
     "execution_count": 24,
     "metadata": {},
     "output_type": "execute_result"
    }
   ],
   "source": [
    "final_df"
   ]
  },
  {
   "cell_type": "code",
   "execution_count": 26,
   "id": "21e1bac9",
   "metadata": {},
   "outputs": [],
   "source": [
    "final_df.to_csv('hangeul_2350_2.csv', index=False, encoding='utf-8-sig')"
   ]
  },
  {
   "cell_type": "code",
   "execution_count": 29,
   "id": "5fa1bbb0",
   "metadata": {},
   "outputs": [
    {
     "data": {
      "text/html": [
       "<div>\n",
       "<style scoped>\n",
       "    .dataframe tbody tr th:only-of-type {\n",
       "        vertical-align: middle;\n",
       "    }\n",
       "\n",
       "    .dataframe tbody tr th {\n",
       "        vertical-align: top;\n",
       "    }\n",
       "\n",
       "    .dataframe thead th {\n",
       "        text-align: right;\n",
       "    }\n",
       "</style>\n",
       "<table border=\"1\" class=\"dataframe\">\n",
       "  <thead>\n",
       "    <tr style=\"text-align: right;\">\n",
       "      <th></th>\n",
       "      <th>img_path</th>\n",
       "      <th>label</th>\n",
       "    </tr>\n",
       "  </thead>\n",
       "  <tbody>\n",
       "    <tr>\n",
       "      <th>152470</th>\n",
       "      <td>/data/2_syllable/00859689.png</td>\n",
       "      <td>윈</td>\n",
       "    </tr>\n",
       "    <tr>\n",
       "      <th>152471</th>\n",
       "      <td>/data/2_syllable/00499030.png</td>\n",
       "      <td>잰</td>\n",
       "    </tr>\n",
       "    <tr>\n",
       "      <th>0</th>\n",
       "      <td>/data/p_syllable/00234912.png</td>\n",
       "      <td>쨀</td>\n",
       "    </tr>\n",
       "    <tr>\n",
       "      <th>1</th>\n",
       "      <td>/data/p_syllable/00180981.png</td>\n",
       "      <td>탈</td>\n",
       "    </tr>\n",
       "    <tr>\n",
       "      <th>2</th>\n",
       "      <td>/data/p_syllable/00362895.png</td>\n",
       "      <td>웩</td>\n",
       "    </tr>\n",
       "  </tbody>\n",
       "</table>\n",
       "</div>"
      ],
      "text/plain": [
       "                             img_path label\n",
       "152470  /data/2_syllable/00859689.png     윈\n",
       "152471  /data/2_syllable/00499030.png     잰\n",
       "0       /data/p_syllable/00234912.png     쨀\n",
       "1       /data/p_syllable/00180981.png     탈\n",
       "2       /data/p_syllable/00362895.png     웩"
      ]
     },
     "execution_count": 29,
     "metadata": {},
     "output_type": "execute_result"
    }
   ],
   "source": [
    "final_df.iloc[152470: 152475, :]"
   ]
  },
  {
   "cell_type": "code",
   "execution_count": null,
   "id": "6a5bafce",
   "metadata": {},
   "outputs": [],
   "source": []
  }
 ],
 "metadata": {
  "kernelspec": {
   "display_name": "Python 3",
   "language": "python",
   "name": "python3"
  },
  "language_info": {
   "codemirror_mode": {
    "name": "ipython",
    "version": 3
   },
   "file_extension": ".py",
   "mimetype": "text/x-python",
   "name": "python",
   "nbconvert_exporter": "python",
   "pygments_lexer": "ipython3",
   "version": "3.6.13"
  }
 },
 "nbformat": 4,
 "nbformat_minor": 5
}
