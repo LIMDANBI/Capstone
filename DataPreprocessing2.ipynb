{
 "cells": [
  {
   "cell_type": "code",
   "execution_count": 1,
   "id": "72430e91",
   "metadata": {},
   "outputs": [],
   "source": [
    "import os\n",
    "import json\n",
    "import pandas as pd\n",
    "from tqdm import tqdm #  진행상황을 피드백으로 제공"
   ]
  },
  {
   "cell_type": "code",
   "execution_count": 2,
   "id": "57ea094b",
   "metadata": {},
   "outputs": [
    {
     "name": "stdout",
     "output_type": "stream",
     "text": [
      "/home/danbibibi/jupyter/data\n"
     ]
    }
   ],
   "source": [
    "cd data"
   ]
  },
  {
   "cell_type": "markdown",
   "id": "267b51db",
   "metadata": {},
   "source": [
    "# 데이터 확인"
   ]
  },
  {
   "cell_type": "code",
   "execution_count": 3,
   "id": "28ffc2b9",
   "metadata": {},
   "outputs": [],
   "source": [
    "with open('printed_data_info.json', 'r', encoding='utf-8') as printed_data:\n",
    "    data = json.load(printed_data)"
   ]
  },
  {
   "cell_type": "code",
   "execution_count": 4,
   "id": "124a4436",
   "metadata": {},
   "outputs": [
    {
     "data": {
      "text/plain": [
       "dict"
      ]
     },
     "execution_count": 4,
     "metadata": {},
     "output_type": "execute_result"
    }
   ],
   "source": [
    "type(data)"
   ]
  },
  {
   "cell_type": "code",
   "execution_count": 5,
   "id": "85f3de49",
   "metadata": {},
   "outputs": [
    {
     "data": {
      "text/plain": [
       "dict_keys(['info', 'images', 'annotations', 'licenses'])"
      ]
     },
     "execution_count": 5,
     "metadata": {},
     "output_type": "execute_result"
    }
   ],
   "source": [
    "data.keys()"
   ]
  },
  {
   "cell_type": "code",
   "execution_count": 6,
   "id": "027d6b1e",
   "metadata": {},
   "outputs": [],
   "source": [
    "data_anno = data['annotations']"
   ]
  },
  {
   "cell_type": "code",
   "execution_count": 7,
   "id": "0f0a8c75",
   "metadata": {},
   "outputs": [
    {
     "data": {
      "text/plain": [
       "[{'attributes': {'font': '만화진흥원', 'type': '글자(음절)', 'is_aug': False},\n",
       "  'id': '00000000',\n",
       "  'image_id': '00000000',\n",
       "  'text': '궶'},\n",
       " {'attributes': {'font': '고양', 'type': '글자(음절)', 'is_aug': False},\n",
       "  'id': '00000001',\n",
       "  'image_id': '00000001',\n",
       "  'text': '뵞'},\n",
       " {'attributes': {'font': '부산', 'type': '글자(음절)', 'is_aug': False},\n",
       "  'id': '00000002',\n",
       "  'image_id': '00000002',\n",
       "  'text': '푚'},\n",
       " {'attributes': {'font': '한겨레', 'type': '글자(음절)', 'is_aug': False},\n",
       "  'id': '00000003',\n",
       "  'image_id': '00000003',\n",
       "  'text': '섆'},\n",
       " {'attributes': {'font': '노토산스', 'type': '글자(음절)', 'is_aug': False},\n",
       "  'id': '00000004',\n",
       "  'image_id': '00000004',\n",
       "  'text': '읂'}]"
      ]
     },
     "execution_count": 7,
     "metadata": {},
     "output_type": "execute_result"
    }
   ],
   "source": [
    "data_anno[:5]"
   ]
  },
  {
   "cell_type": "code",
   "execution_count": 8,
   "id": "cae7b418",
   "metadata": {},
   "outputs": [
    {
     "data": {
      "text/plain": [
       "878100"
      ]
     },
     "execution_count": 8,
     "metadata": {},
     "output_type": "execute_result"
    }
   ],
   "source": [
    "len(data_anno)"
   ]
  },
  {
   "cell_type": "code",
   "execution_count": 9,
   "id": "9fcd77ec",
   "metadata": {},
   "outputs": [
    {
     "data": {
      "text/plain": [
       "[{'attributes': {'font': '만화진흥원', 'type': '글자(음절)', 'is_aug': False},\n",
       "  'id': '00000000',\n",
       "  'image_id': '00000000',\n",
       "  'text': '궶'},\n",
       " {'attributes': {'font': '고양', 'type': '글자(음절)', 'is_aug': False},\n",
       "  'id': '00000001',\n",
       "  'image_id': '00000001',\n",
       "  'text': '뵞'},\n",
       " {'attributes': {'font': '부산', 'type': '글자(음절)', 'is_aug': False},\n",
       "  'id': '00000002',\n",
       "  'image_id': '00000002',\n",
       "  'text': '푚'},\n",
       " {'attributes': {'font': '한겨레', 'type': '글자(음절)', 'is_aug': False},\n",
       "  'id': '00000003',\n",
       "  'image_id': '00000003',\n",
       "  'text': '섆'},\n",
       " {'attributes': {'font': '노토산스', 'type': '글자(음절)', 'is_aug': False},\n",
       "  'id': '00000004',\n",
       "  'image_id': '00000004',\n",
       "  'text': '읂'}]"
      ]
     },
     "execution_count": 9,
     "metadata": {},
     "output_type": "execute_result"
    }
   ],
   "source": [
    "anno_list = [] # annotation을 담을 배열\n",
    "id_list = [] # 이미지 id를 담을 배열\n",
    "syllable_list = [] # 음절을 담을 배열 \n",
    "\n",
    "for i in range(0, len(data_anno)):\n",
    "    if data_anno[i]['attributes']['type'] == '글자(음절)':\n",
    "        anno_list.append(data_anno[i])\n",
    "        id_list.append(data_anno[i]['id'])\n",
    "        syllable_list.append(data_anno[i]['text'])\n",
    "anno_list[:5]"
   ]
  },
  {
   "cell_type": "markdown",
   "id": "3bec7d0f",
   "metadata": {},
   "source": [
    "## p_syllable 파일 경로 + label"
   ]
  },
  {
   "cell_type": "code",
   "execution_count": 10,
   "id": "5e076a08",
   "metadata": {},
   "outputs": [],
   "source": [
    "# 경로 + label 저장할 list\n",
    "syllable_file = []"
   ]
  },
  {
   "cell_type": "code",
   "execution_count": 11,
   "id": "3069a372",
   "metadata": {},
   "outputs": [
    {
     "data": {
      "text/plain": [
       "['00172367.png',\n",
       " '00493683.png',\n",
       " '00219169.png',\n",
       " '00315313.png',\n",
       " '00013988.png']"
      ]
     },
     "execution_count": 11,
     "metadata": {},
     "output_type": "execute_result"
    }
   ],
   "source": [
    "# p_syllable 파일 경로 + label\n",
    "syllablep_filename = os.listdir(\"p_syllable\")\n",
    "syllablep_filename[:5]"
   ]
  },
  {
   "cell_type": "code",
   "execution_count": 12,
   "id": "d5afe304",
   "metadata": {},
   "outputs": [
    {
     "data": {
      "text/plain": [
       "['00000000', '00000001', '00000002', '00000003', '00000004']"
      ]
     },
     "execution_count": 12,
     "metadata": {},
     "output_type": "execute_result"
    }
   ],
   "source": [
    "id_list[:5]"
   ]
  },
  {
   "cell_type": "code",
   "execution_count": 13,
   "id": "f65cf077",
   "metadata": {},
   "outputs": [
    {
     "name": "stderr",
     "output_type": "stream",
     "text": [
      "100%|██████████| 532659/532659 [1:29:42<00:00, 98.96it/s] \n"
     ]
    }
   ],
   "source": [
    "for i in tqdm(range(0,len(syllablep_filename))):\n",
    "    if syllablep_filename[i][:-4] in id_list:\n",
    "        path = '/data/p_syllable/' + syllablep_filename[i]\n",
    "        number = id_list.index(syllablep_filename[i][:-4]) # 배열에서 원하는 id의 위치 찾기\n",
    "        text = syllable_list[number]\n",
    "        syllable_file.append([path, text])"
   ]
  },
  {
   "cell_type": "code",
   "execution_count": 14,
   "id": "0971c991",
   "metadata": {},
   "outputs": [
    {
     "name": "stdout",
     "output_type": "stream",
     "text": [
      "532659\n"
     ]
    },
    {
     "data": {
      "text/plain": [
       "[['/data/p_syllable/00172367.png', '쑒'],\n",
       " ['/data/p_syllable/00493683.png', '퍍'],\n",
       " ['/data/p_syllable/00219169.png', '뺛'],\n",
       " ['/data/p_syllable/00315313.png', '뺲'],\n",
       " ['/data/p_syllable/00013988.png', '쮭']]"
      ]
     },
     "execution_count": 14,
     "metadata": {},
     "output_type": "execute_result"
    }
   ],
   "source": [
    "print(len(syllable_file))\n",
    "syllable_file[:5]"
   ]
  },
  {
   "cell_type": "markdown",
   "id": "632bf04e",
   "metadata": {},
   "source": [
    "## 한글 완성형 2350자만 사용"
   ]
  },
  {
   "cell_type": "code",
   "execution_count": 15,
   "id": "492e7590",
   "metadata": {},
   "outputs": [],
   "source": [
    "output_class = '가각간갇갈갉갊감갑값갓갔강갖갗같갚갛개객갠갤갬갭갯갰갱갸갹갼걀걋걍걔걘걜거걱건걷걸걺검겁것겄겅겆겉겊겋게겐겔겜겝겟겠겡겨격겪견겯결겸겹겻겼경곁계곈곌곕곗고곡곤곧골곪곬곯곰곱곳공곶과곽관괄괆괌괍괏광괘괜괠괩괬괭괴괵괸괼굄굅굇굉교굔굘굡굣구국군굳굴굵굶굻굼굽굿궁궂궈궉권궐궜궝궤궷귀귁귄귈귐귑귓규균귤그극근귿글긁금급긋긍긔기긱긴긷길긺김깁깃깅깆깊까깍깎깐깔깖깜깝깟깠깡깥깨깩깬깰깸깹깻깼깽꺄꺅꺌꺼꺽꺾껀껄껌껍껏껐껑께껙껜껨껫껭껴껸껼꼇꼈꼍꼐꼬꼭꼰꼲꼴꼼꼽꼿꽁꽂꽃꽈꽉꽐꽜꽝꽤꽥꽹꾀꾄꾈꾐꾑꾕꾜꾸꾹꾼꿀꿇꿈꿉꿋꿍꿎꿔꿜꿨꿩꿰꿱꿴꿸뀀뀁뀄뀌뀐뀔뀜뀝뀨끄끅끈끊끌끎끓끔끕끗끙끝끼끽낀낄낌낍낏낑나낙낚난낟날낡낢남납낫났낭낮낯낱낳내낵낸낼냄냅냇냈냉냐냑냔냘냠냥너넉넋넌널넒넓넘넙넛넜넝넣네넥넨넬넴넵넷넸넹녀녁년녈념녑녔녕녘녜녠노녹논놀놂놈놉놋농높놓놔놘놜놨뇌뇐뇔뇜뇝뇟뇨뇩뇬뇰뇹뇻뇽누눅눈눋눌눔눕눗눙눠눴눼뉘뉜뉠뉨뉩뉴뉵뉼늄늅늉느늑는늘늙늚늠늡늣능늦늪늬늰늴니닉닌닐닒님닙닛닝닢다닥닦단닫달닭닮닯닳담답닷닸당닺닻닿대댁댄댈댐댑댓댔댕댜더덕덖던덛덜덞덟덤덥덧덩덫덮데덱덴델뎀뎁뎃뎄뎅뎌뎐뎔뎠뎡뎨뎬도독돈돋돌돎돐돔돕돗동돛돝돠돤돨돼됐되된될됨됩됫됴두둑둔둘둠둡둣둥둬뒀뒈뒝뒤뒨뒬뒵뒷뒹듀듄듈듐듕드득든듣들듦듬듭듯등듸디딕딘딛딜딤딥딧딨딩딪따딱딴딸땀땁땃땄땅땋때땍땐땔땜땝땟땠땡떠떡떤떨떪떫떰떱떳떴떵떻떼떽뗀뗄뗌뗍뗏뗐뗑뗘뗬또똑똔똘똥똬똴뙈뙤뙨뚜뚝뚠뚤뚫뚬뚱뛔뛰뛴뛸뜀뜁뜅뜨뜩뜬뜯뜰뜸뜹뜻띄띈띌띔띕띠띤띨띰띱띳띵라락란랄람랍랏랐랑랒랖랗래랙랜랠램랩랫랬랭랴략랸럇량러럭런럴럼럽럿렀렁렇레렉렌렐렘렙렛렝려력련렬렴렵렷렸령례롄롑롓로록론롤롬롭롯롱롸롼뢍뢨뢰뢴뢸룀룁룃룅료룐룔룝룟룡루룩룬룰룸룹룻룽뤄뤘뤠뤼뤽륀륄륌륏륑류륙륜률륨륩륫륭르륵른를름릅릇릉릊릍릎리릭린릴림립릿링마막만많맏말맑맒맘맙맛망맞맡맣매맥맨맬맴맵맷맸맹맺먀먁먈먕머먹먼멀멂멈멉멋멍멎멓메멕멘멜멤멥멧멨멩며멱면멸몃몄명몇몌모목몫몬몰몲몸몹못몽뫄뫈뫘뫙뫼묀묄묍묏묑묘묜묠묩묫무묵묶문묻물묽묾뭄뭅뭇뭉뭍뭏뭐뭔뭘뭡뭣뭬뮈뮌뮐뮤뮨뮬뮴뮷므믄믈믐믓미믹민믿밀밂밈밉밋밌밍및밑바박밖밗반받발밝밞밟밤밥밧방밭배백밴밸뱀뱁뱃뱄뱅뱉뱌뱍뱐뱝버벅번벋벌벎범법벗벙벚베벡벤벧벨벰벱벳벴벵벼벽변별볍볏볐병볕볘볜보복볶본볼봄봅봇봉봐봔봤봬뵀뵈뵉뵌뵐뵘뵙뵤뵨부북분붇불붉붊붐붑붓붕붙붚붜붤붰붸뷔뷕뷘뷜뷩뷰뷴뷸븀븃븅브븍븐블븜븝븟비빅빈빌빎빔빕빗빙빚빛빠빡빤빨빪빰빱빳빴빵빻빼빽뺀뺄뺌뺍뺏뺐뺑뺘뺙뺨뻐뻑뻔뻗뻘뻠뻣뻤뻥뻬뼁뼈뼉뼘뼙뼛뼜뼝뽀뽁뽄뽈뽐뽑뽕뾔뾰뿅뿌뿍뿐뿔뿜뿟뿡쀼쁑쁘쁜쁠쁨쁩삐삑삔삘삠삡삣삥사삭삯산삳살삵삶삼삽삿샀상샅새색샌샐샘샙샛샜생샤샥샨샬샴샵샷샹섀섄섈섐섕서석섞섟선섣설섦섧섬섭섯섰성섶세섹센셀셈셉셋셌셍셔셕션셜셤셥셧셨셩셰셴셸솅소속솎손솔솖솜솝솟송솥솨솩솬솰솽쇄쇈쇌쇔쇗쇘쇠쇤쇨쇰쇱쇳쇼쇽숀숄숌숍숏숑수숙순숟술숨숩숫숭숯숱숲숴쉈쉐쉑쉔쉘쉠쉥쉬쉭쉰쉴쉼쉽쉿슁슈슉슐슘슛슝스슥슨슬슭슴습슷승시식신싣실싫심십싯싱싶싸싹싻싼쌀쌈쌉쌌쌍쌓쌔쌕쌘쌜쌤쌥쌨쌩썅써썩썬썰썲썸썹썼썽쎄쎈쎌쏀쏘쏙쏜쏟쏠쏢쏨쏩쏭쏴쏵쏸쐈쐐쐤쐬쐰쐴쐼쐽쑈쑤쑥쑨쑬쑴쑵쑹쒀쒔쒜쒸쒼쓩쓰쓱쓴쓸쓺쓿씀씁씌씐씔씜씨씩씬씰씸씹씻씽아악안앉않알앍앎앓암압앗았앙앝앞애액앤앨앰앱앳앴앵야약얀얄얇얌얍얏양얕얗얘얜얠얩어억언얹얻얼얽얾엄업없엇었엉엊엌엎에엑엔엘엠엡엣엥여역엮연열엶엷염엽엾엿였영옅옆옇예옌옐옘옙옛옜오옥온올옭옮옰옳옴옵옷옹옻와왁완왈왐왑왓왔왕왜왝왠왬왯왱외왹왼욀욈욉욋욍요욕욘욜욤욥욧용우욱운울욹욺움웁웃웅워웍원월웜웝웠웡웨웩웬웰웸웹웽위윅윈윌윔윕윗윙유육윤율윰윱윳융윷으윽은을읊음읍읏응읒읓읔읕읖읗의읜읠읨읫이익인일읽읾잃임입잇있잉잊잎자작잔잖잗잘잚잠잡잣잤장잦재잭잰잴잼잽잿쟀쟁쟈쟉쟌쟎쟐쟘쟝쟤쟨쟬저적전절젊점접젓정젖제젝젠젤젬젭젯젱져젼졀졈졉졌졍졔조족존졸졺좀좁좃종좆좇좋좌좍좔좝좟좡좨좼좽죄죈죌죔죕죗죙죠죡죤죵주죽준줄줅줆줌줍줏중줘줬줴쥐쥑쥔쥘쥠쥡쥣쥬쥰쥴쥼즈즉즌즐즘즙즛증지직진짇질짊짐집짓징짖짙짚짜짝짠짢짤짧짬짭짯짰짱째짹짼쨀쨈쨉쨋쨌쨍쨔쨘쨩쩌쩍쩐쩔쩜쩝쩟쩠쩡쩨쩽쪄쪘쪼쪽쫀쫄쫌쫍쫏쫑쫓쫘쫙쫠쫬쫴쬈쬐쬔쬘쬠쬡쭁쭈쭉쭌쭐쭘쭙쭝쭤쭸쭹쮜쮸쯔쯤쯧쯩찌찍찐찔찜찝찡찢찧차착찬찮찰참찹찻찼창찾채책챈챌챔챕챗챘챙챠챤챦챨챰챵처척천철첨첩첫첬청체첵첸첼쳄쳅쳇쳉쳐쳔쳤쳬쳰촁초촉촌촐촘촙촛총촤촨촬촹최쵠쵤쵬쵭쵯쵱쵸춈추축춘출춤춥춧충춰췄췌췐취췬췰췸췹췻췽츄츈츌츔츙츠측츤츨츰츱츳층치칙친칟칠칡침칩칫칭카칵칸칼캄캅캇캉캐캑캔캘캠캡캣캤캥캬캭컁커컥컨컫컬컴컵컷컸컹케켁켄켈켐켑켓켕켜켠켤켬켭켯켰켱켸코콕콘콜콤콥콧콩콰콱콴콸쾀쾅쾌쾡쾨쾰쿄쿠쿡쿤쿨쿰쿱쿳쿵쿼퀀퀄퀑퀘퀭퀴퀵퀸퀼큄큅큇큉큐큔큘큠크큭큰클큼큽킁키킥킨킬킴킵킷킹타탁탄탈탉탐탑탓탔탕태택탠탤탬탭탯탰탱탸턍터턱턴털턺텀텁텃텄텅테텍텐텔템텝텟텡텨텬텼톄톈토톡톤톨톰톱톳통톺톼퇀퇘퇴퇸툇툉툐투툭툰툴툼툽툿퉁퉈퉜퉤튀튁튄튈튐튑튕튜튠튤튬튱트특튼튿틀틂틈틉틋틔틘틜틤틥티틱틴틸팀팁팃팅파팍팎판팔팖팜팝팟팠팡팥패팩팬팰팸팹팻팼팽퍄퍅퍼퍽펀펄펌펍펏펐펑페펙펜펠펨펩펫펭펴편펼폄폅폈평폐폘폡폣포폭폰폴폼폽폿퐁퐈퐝푀푄표푠푤푭푯푸푹푼푿풀풂품풉풋풍풔풩퓌퓐퓔퓜퓟퓨퓬퓰퓸퓻퓽프픈플픔픕픗피픽핀필핌핍핏핑하학한할핥함합핫항해핵핸핼햄햅햇했행햐향허헉헌헐헒험헙헛헝헤헥헨헬헴헵헷헹혀혁현혈혐협혓혔형혜혠혤혭호혹혼홀홅홈홉홋홍홑화확환활홧황홰홱홴횃횅회획횐횔횝횟횡효횬횰횹횻후훅훈훌훑훔훗훙훠훤훨훰훵훼훽휀휄휑휘휙휜휠휨휩휫휭휴휵휸휼흄흇흉흐흑흔흖흗흘흙흠흡흣흥흩희흰흴흼흽힁히힉힌힐힘힙힛힝'"
   ]
  },
  {
   "cell_type": "code",
   "execution_count": 16,
   "id": "bc46dc77",
   "metadata": {},
   "outputs": [],
   "source": [
    "printed_hangeul_2350 = []"
   ]
  },
  {
   "cell_type": "code",
   "execution_count": 17,
   "id": "4545393d",
   "metadata": {},
   "outputs": [
    {
     "name": "stderr",
     "output_type": "stream",
     "text": [
      "100%|██████████| 532659/532659 [00:00<00:00, 1252093.25it/s]"
     ]
    },
    {
     "name": "stdout",
     "output_type": "stream",
     "text": [
      "112002\n"
     ]
    },
    {
     "name": "stderr",
     "output_type": "stream",
     "text": [
      "\n"
     ]
    },
    {
     "data": {
      "text/plain": [
       "[['/data/p_syllable/00234912.png', '갯'],\n",
       " ['/data/p_syllable/00500984.png', '김'],\n",
       " ['/data/p_syllable/00056511.png', '넜'],\n",
       " ['/data/p_syllable/00463830.png', '땔'],\n",
       " ['/data/p_syllable/00329822.png', '룰']]"
      ]
     },
     "execution_count": 17,
     "metadata": {},
     "output_type": "execute_result"
    }
   ],
   "source": [
    "for syllable in tqdm(syllable_file):\n",
    "    if syllable[1] in output_class:\n",
    "        printed_hangeul_2350.append(syllable)\n",
    "        \n",
    "print(len(printed_hangeul_2350))\n",
    "printed_hangeul_2350[:5]"
   ]
  },
  {
   "cell_type": "code",
   "execution_count": 18,
   "id": "811174c2",
   "metadata": {},
   "outputs": [
    {
     "data": {
      "text/html": [
       "<div>\n",
       "<style scoped>\n",
       "    .dataframe tbody tr th:only-of-type {\n",
       "        vertical-align: middle;\n",
       "    }\n",
       "\n",
       "    .dataframe tbody tr th {\n",
       "        vertical-align: top;\n",
       "    }\n",
       "\n",
       "    .dataframe thead th {\n",
       "        text-align: right;\n",
       "    }\n",
       "</style>\n",
       "<table border=\"1\" class=\"dataframe\">\n",
       "  <thead>\n",
       "    <tr style=\"text-align: right;\">\n",
       "      <th></th>\n",
       "      <th>img_path</th>\n",
       "      <th>label</th>\n",
       "    </tr>\n",
       "  </thead>\n",
       "  <tbody>\n",
       "    <tr>\n",
       "      <th>0</th>\n",
       "      <td>/data/p_syllable/00234912.png</td>\n",
       "      <td>갯</td>\n",
       "    </tr>\n",
       "    <tr>\n",
       "      <th>1</th>\n",
       "      <td>/data/p_syllable/00500984.png</td>\n",
       "      <td>김</td>\n",
       "    </tr>\n",
       "    <tr>\n",
       "      <th>2</th>\n",
       "      <td>/data/p_syllable/00056511.png</td>\n",
       "      <td>넜</td>\n",
       "    </tr>\n",
       "    <tr>\n",
       "      <th>3</th>\n",
       "      <td>/data/p_syllable/00463830.png</td>\n",
       "      <td>땔</td>\n",
       "    </tr>\n",
       "    <tr>\n",
       "      <th>4</th>\n",
       "      <td>/data/p_syllable/00329822.png</td>\n",
       "      <td>룰</td>\n",
       "    </tr>\n",
       "  </tbody>\n",
       "</table>\n",
       "</div>"
      ],
      "text/plain": [
       "                        img_path label\n",
       "0  /data/p_syllable/00234912.png     갯\n",
       "1  /data/p_syllable/00500984.png     김\n",
       "2  /data/p_syllable/00056511.png     넜\n",
       "3  /data/p_syllable/00463830.png     땔\n",
       "4  /data/p_syllable/00329822.png     룰"
      ]
     },
     "execution_count": 18,
     "metadata": {},
     "output_type": "execute_result"
    }
   ],
   "source": [
    "# dataframe으로 변환\n",
    "df = pd.DataFrame(printed_hangeul_2350)\n",
    "df.columns = ['img_path', 'label']\n",
    "df.head()"
   ]
  },
  {
   "cell_type": "code",
   "execution_count": 19,
   "id": "692435c1",
   "metadata": {},
   "outputs": [
    {
     "data": {
      "text/html": [
       "<div>\n",
       "<style scoped>\n",
       "    .dataframe tbody tr th:only-of-type {\n",
       "        vertical-align: middle;\n",
       "    }\n",
       "\n",
       "    .dataframe tbody tr th {\n",
       "        vertical-align: top;\n",
       "    }\n",
       "\n",
       "    .dataframe thead th {\n",
       "        text-align: right;\n",
       "    }\n",
       "</style>\n",
       "<table border=\"1\" class=\"dataframe\">\n",
       "  <thead>\n",
       "    <tr style=\"text-align: right;\">\n",
       "      <th></th>\n",
       "      <th>img_path</th>\n",
       "      <th>label</th>\n",
       "    </tr>\n",
       "  </thead>\n",
       "  <tbody>\n",
       "    <tr>\n",
       "      <th>0</th>\n",
       "      <td>/data/p_syllable/00234912.png</td>\n",
       "      <td>갯</td>\n",
       "    </tr>\n",
       "    <tr>\n",
       "      <th>1</th>\n",
       "      <td>/data/p_syllable/00500984.png</td>\n",
       "      <td>김</td>\n",
       "    </tr>\n",
       "    <tr>\n",
       "      <th>2</th>\n",
       "      <td>/data/p_syllable/00056511.png</td>\n",
       "      <td>넜</td>\n",
       "    </tr>\n",
       "    <tr>\n",
       "      <th>3</th>\n",
       "      <td>/data/p_syllable/00463830.png</td>\n",
       "      <td>땔</td>\n",
       "    </tr>\n",
       "    <tr>\n",
       "      <th>4</th>\n",
       "      <td>/data/p_syllable/00329822.png</td>\n",
       "      <td>룰</td>\n",
       "    </tr>\n",
       "    <tr>\n",
       "      <th>...</th>\n",
       "      <td>...</td>\n",
       "      <td>...</td>\n",
       "    </tr>\n",
       "    <tr>\n",
       "      <th>111997</th>\n",
       "      <td>/data/p_syllable/00461411.png</td>\n",
       "      <td>콩</td>\n",
       "    </tr>\n",
       "    <tr>\n",
       "      <th>111998</th>\n",
       "      <td>/data/p_syllable/00122479.png</td>\n",
       "      <td>탁</td>\n",
       "    </tr>\n",
       "    <tr>\n",
       "      <th>111999</th>\n",
       "      <td>/data/p_syllable/00437537.png</td>\n",
       "      <td>손</td>\n",
       "    </tr>\n",
       "    <tr>\n",
       "      <th>112000</th>\n",
       "      <td>/data/p_syllable/00195419.png</td>\n",
       "      <td>붑</td>\n",
       "    </tr>\n",
       "    <tr>\n",
       "      <th>112001</th>\n",
       "      <td>/data/p_syllable/00242600.png</td>\n",
       "      <td>헌</td>\n",
       "    </tr>\n",
       "  </tbody>\n",
       "</table>\n",
       "<p>112002 rows × 2 columns</p>\n",
       "</div>"
      ],
      "text/plain": [
       "                             img_path label\n",
       "0       /data/p_syllable/00234912.png     갯\n",
       "1       /data/p_syllable/00500984.png     김\n",
       "2       /data/p_syllable/00056511.png     넜\n",
       "3       /data/p_syllable/00463830.png     땔\n",
       "4       /data/p_syllable/00329822.png     룰\n",
       "...                               ...   ...\n",
       "111997  /data/p_syllable/00461411.png     콩\n",
       "111998  /data/p_syllable/00122479.png     탁\n",
       "111999  /data/p_syllable/00437537.png     손\n",
       "112000  /data/p_syllable/00195419.png     붑\n",
       "112001  /data/p_syllable/00242600.png     헌\n",
       "\n",
       "[112002 rows x 2 columns]"
      ]
     },
     "execution_count": 19,
     "metadata": {},
     "output_type": "execute_result"
    }
   ],
   "source": [
    "df"
   ]
  },
  {
   "cell_type": "code",
   "execution_count": 20,
   "id": "fdebd571",
   "metadata": {},
   "outputs": [],
   "source": [
    "df.to_csv('printed_hangeul_2350.csv', index=False, encoding='utf-8-sig')"
   ]
  },
  {
   "cell_type": "markdown",
   "id": "4f0a0130",
   "metadata": {},
   "source": [
    "## 만들어 둔 두 csv파일 합치기"
   ]
  },
  {
   "cell_type": "code",
   "execution_count": 21,
   "id": "46779e3e",
   "metadata": {},
   "outputs": [],
   "source": [
    "df1 = pd.read_csv('./hand_hangeul_2350.csv')\n",
    "df2 = pd.read_csv('./printed_hangeul_2350.csv')"
   ]
  },
  {
   "cell_type": "code",
   "execution_count": 22,
   "id": "369a37fc",
   "metadata": {},
   "outputs": [
    {
     "data": {
      "text/html": [
       "<div>\n",
       "<style scoped>\n",
       "    .dataframe tbody tr th:only-of-type {\n",
       "        vertical-align: middle;\n",
       "    }\n",
       "\n",
       "    .dataframe tbody tr th {\n",
       "        vertical-align: top;\n",
       "    }\n",
       "\n",
       "    .dataframe thead th {\n",
       "        text-align: right;\n",
       "    }\n",
       "</style>\n",
       "<table border=\"1\" class=\"dataframe\">\n",
       "  <thead>\n",
       "    <tr style=\"text-align: right;\">\n",
       "      <th></th>\n",
       "      <th>img_path</th>\n",
       "      <th>label</th>\n",
       "    </tr>\n",
       "  </thead>\n",
       "  <tbody>\n",
       "    <tr>\n",
       "      <th>0</th>\n",
       "      <td>/data/1_syllable/00180981.png</td>\n",
       "      <td>탈</td>\n",
       "    </tr>\n",
       "    <tr>\n",
       "      <th>1</th>\n",
       "      <td>/data/1_syllable/00111687.png</td>\n",
       "      <td>쒜</td>\n",
       "    </tr>\n",
       "    <tr>\n",
       "      <th>2</th>\n",
       "      <td>/data/1_syllable/00003308.png</td>\n",
       "      <td>얍</td>\n",
       "    </tr>\n",
       "    <tr>\n",
       "      <th>3</th>\n",
       "      <td>/data/1_syllable/00037623.png</td>\n",
       "      <td>꾕</td>\n",
       "    </tr>\n",
       "    <tr>\n",
       "      <th>4</th>\n",
       "      <td>/data/1_syllable/00175405.png</td>\n",
       "      <td>겐</td>\n",
       "    </tr>\n",
       "    <tr>\n",
       "      <th>...</th>\n",
       "      <td>...</td>\n",
       "      <td>...</td>\n",
       "    </tr>\n",
       "    <tr>\n",
       "      <th>152467</th>\n",
       "      <td>/data/2_syllable/01045075.png</td>\n",
       "      <td>찌</td>\n",
       "    </tr>\n",
       "    <tr>\n",
       "      <th>152468</th>\n",
       "      <td>/data/2_syllable/00241276.png</td>\n",
       "      <td>뼜</td>\n",
       "    </tr>\n",
       "    <tr>\n",
       "      <th>152469</th>\n",
       "      <td>/data/2_syllable/01193845.png</td>\n",
       "      <td>묏</td>\n",
       "    </tr>\n",
       "    <tr>\n",
       "      <th>152470</th>\n",
       "      <td>/data/2_syllable/00792426.png</td>\n",
       "      <td>웽</td>\n",
       "    </tr>\n",
       "    <tr>\n",
       "      <th>152471</th>\n",
       "      <td>/data/2_syllable/01043091.png</td>\n",
       "      <td>쿼</td>\n",
       "    </tr>\n",
       "  </tbody>\n",
       "</table>\n",
       "<p>152472 rows × 2 columns</p>\n",
       "</div>"
      ],
      "text/plain": [
       "                             img_path label\n",
       "0       /data/1_syllable/00180981.png     탈\n",
       "1       /data/1_syllable/00111687.png     쒜\n",
       "2       /data/1_syllable/00003308.png     얍\n",
       "3       /data/1_syllable/00037623.png     꾕\n",
       "4       /data/1_syllable/00175405.png     겐\n",
       "...                               ...   ...\n",
       "152467  /data/2_syllable/01045075.png     찌\n",
       "152468  /data/2_syllable/00241276.png     뼜\n",
       "152469  /data/2_syllable/01193845.png     묏\n",
       "152470  /data/2_syllable/00792426.png     웽\n",
       "152471  /data/2_syllable/01043091.png     쿼\n",
       "\n",
       "[152472 rows x 2 columns]"
      ]
     },
     "execution_count": 22,
     "metadata": {},
     "output_type": "execute_result"
    }
   ],
   "source": [
    "df1"
   ]
  },
  {
   "cell_type": "code",
   "execution_count": 23,
   "id": "c25d086d",
   "metadata": {},
   "outputs": [
    {
     "data": {
      "text/html": [
       "<div>\n",
       "<style scoped>\n",
       "    .dataframe tbody tr th:only-of-type {\n",
       "        vertical-align: middle;\n",
       "    }\n",
       "\n",
       "    .dataframe tbody tr th {\n",
       "        vertical-align: top;\n",
       "    }\n",
       "\n",
       "    .dataframe thead th {\n",
       "        text-align: right;\n",
       "    }\n",
       "</style>\n",
       "<table border=\"1\" class=\"dataframe\">\n",
       "  <thead>\n",
       "    <tr style=\"text-align: right;\">\n",
       "      <th></th>\n",
       "      <th>img_path</th>\n",
       "      <th>label</th>\n",
       "    </tr>\n",
       "  </thead>\n",
       "  <tbody>\n",
       "    <tr>\n",
       "      <th>0</th>\n",
       "      <td>/data/p_syllable/00234912.png</td>\n",
       "      <td>갯</td>\n",
       "    </tr>\n",
       "    <tr>\n",
       "      <th>1</th>\n",
       "      <td>/data/p_syllable/00500984.png</td>\n",
       "      <td>김</td>\n",
       "    </tr>\n",
       "    <tr>\n",
       "      <th>2</th>\n",
       "      <td>/data/p_syllable/00056511.png</td>\n",
       "      <td>넜</td>\n",
       "    </tr>\n",
       "    <tr>\n",
       "      <th>3</th>\n",
       "      <td>/data/p_syllable/00463830.png</td>\n",
       "      <td>땔</td>\n",
       "    </tr>\n",
       "    <tr>\n",
       "      <th>4</th>\n",
       "      <td>/data/p_syllable/00329822.png</td>\n",
       "      <td>룰</td>\n",
       "    </tr>\n",
       "    <tr>\n",
       "      <th>...</th>\n",
       "      <td>...</td>\n",
       "      <td>...</td>\n",
       "    </tr>\n",
       "    <tr>\n",
       "      <th>111997</th>\n",
       "      <td>/data/p_syllable/00461411.png</td>\n",
       "      <td>콩</td>\n",
       "    </tr>\n",
       "    <tr>\n",
       "      <th>111998</th>\n",
       "      <td>/data/p_syllable/00122479.png</td>\n",
       "      <td>탁</td>\n",
       "    </tr>\n",
       "    <tr>\n",
       "      <th>111999</th>\n",
       "      <td>/data/p_syllable/00437537.png</td>\n",
       "      <td>손</td>\n",
       "    </tr>\n",
       "    <tr>\n",
       "      <th>112000</th>\n",
       "      <td>/data/p_syllable/00195419.png</td>\n",
       "      <td>붑</td>\n",
       "    </tr>\n",
       "    <tr>\n",
       "      <th>112001</th>\n",
       "      <td>/data/p_syllable/00242600.png</td>\n",
       "      <td>헌</td>\n",
       "    </tr>\n",
       "  </tbody>\n",
       "</table>\n",
       "<p>112002 rows × 2 columns</p>\n",
       "</div>"
      ],
      "text/plain": [
       "                             img_path label\n",
       "0       /data/p_syllable/00234912.png     갯\n",
       "1       /data/p_syllable/00500984.png     김\n",
       "2       /data/p_syllable/00056511.png     넜\n",
       "3       /data/p_syllable/00463830.png     땔\n",
       "4       /data/p_syllable/00329822.png     룰\n",
       "...                               ...   ...\n",
       "111997  /data/p_syllable/00461411.png     콩\n",
       "111998  /data/p_syllable/00122479.png     탁\n",
       "111999  /data/p_syllable/00437537.png     손\n",
       "112000  /data/p_syllable/00195419.png     붑\n",
       "112001  /data/p_syllable/00242600.png     헌\n",
       "\n",
       "[112002 rows x 2 columns]"
      ]
     },
     "execution_count": 23,
     "metadata": {},
     "output_type": "execute_result"
    }
   ],
   "source": [
    "df2"
   ]
  },
  {
   "cell_type": "code",
   "execution_count": 24,
   "id": "c4a1efde",
   "metadata": {},
   "outputs": [],
   "source": [
    "df = pd.concat([df1, df2])"
   ]
  },
  {
   "cell_type": "code",
   "execution_count": 25,
   "id": "2fdfa326",
   "metadata": {},
   "outputs": [
    {
     "data": {
      "text/html": [
       "<div>\n",
       "<style scoped>\n",
       "    .dataframe tbody tr th:only-of-type {\n",
       "        vertical-align: middle;\n",
       "    }\n",
       "\n",
       "    .dataframe tbody tr th {\n",
       "        vertical-align: top;\n",
       "    }\n",
       "\n",
       "    .dataframe thead th {\n",
       "        text-align: right;\n",
       "    }\n",
       "</style>\n",
       "<table border=\"1\" class=\"dataframe\">\n",
       "  <thead>\n",
       "    <tr style=\"text-align: right;\">\n",
       "      <th></th>\n",
       "      <th>img_path</th>\n",
       "      <th>label</th>\n",
       "    </tr>\n",
       "  </thead>\n",
       "  <tbody>\n",
       "    <tr>\n",
       "      <th>0</th>\n",
       "      <td>/data/1_syllable/00180981.png</td>\n",
       "      <td>탈</td>\n",
       "    </tr>\n",
       "    <tr>\n",
       "      <th>1</th>\n",
       "      <td>/data/1_syllable/00111687.png</td>\n",
       "      <td>쒜</td>\n",
       "    </tr>\n",
       "    <tr>\n",
       "      <th>2</th>\n",
       "      <td>/data/1_syllable/00003308.png</td>\n",
       "      <td>얍</td>\n",
       "    </tr>\n",
       "    <tr>\n",
       "      <th>3</th>\n",
       "      <td>/data/1_syllable/00037623.png</td>\n",
       "      <td>꾕</td>\n",
       "    </tr>\n",
       "    <tr>\n",
       "      <th>4</th>\n",
       "      <td>/data/1_syllable/00175405.png</td>\n",
       "      <td>겐</td>\n",
       "    </tr>\n",
       "    <tr>\n",
       "      <th>...</th>\n",
       "      <td>...</td>\n",
       "      <td>...</td>\n",
       "    </tr>\n",
       "    <tr>\n",
       "      <th>111997</th>\n",
       "      <td>/data/p_syllable/00461411.png</td>\n",
       "      <td>콩</td>\n",
       "    </tr>\n",
       "    <tr>\n",
       "      <th>111998</th>\n",
       "      <td>/data/p_syllable/00122479.png</td>\n",
       "      <td>탁</td>\n",
       "    </tr>\n",
       "    <tr>\n",
       "      <th>111999</th>\n",
       "      <td>/data/p_syllable/00437537.png</td>\n",
       "      <td>손</td>\n",
       "    </tr>\n",
       "    <tr>\n",
       "      <th>112000</th>\n",
       "      <td>/data/p_syllable/00195419.png</td>\n",
       "      <td>붑</td>\n",
       "    </tr>\n",
       "    <tr>\n",
       "      <th>112001</th>\n",
       "      <td>/data/p_syllable/00242600.png</td>\n",
       "      <td>헌</td>\n",
       "    </tr>\n",
       "  </tbody>\n",
       "</table>\n",
       "<p>264474 rows × 2 columns</p>\n",
       "</div>"
      ],
      "text/plain": [
       "                             img_path label\n",
       "0       /data/1_syllable/00180981.png     탈\n",
       "1       /data/1_syllable/00111687.png     쒜\n",
       "2       /data/1_syllable/00003308.png     얍\n",
       "3       /data/1_syllable/00037623.png     꾕\n",
       "4       /data/1_syllable/00175405.png     겐\n",
       "...                               ...   ...\n",
       "111997  /data/p_syllable/00461411.png     콩\n",
       "111998  /data/p_syllable/00122479.png     탁\n",
       "111999  /data/p_syllable/00437537.png     손\n",
       "112000  /data/p_syllable/00195419.png     붑\n",
       "112001  /data/p_syllable/00242600.png     헌\n",
       "\n",
       "[264474 rows x 2 columns]"
      ]
     },
     "execution_count": 25,
     "metadata": {},
     "output_type": "execute_result"
    }
   ],
   "source": [
    "df"
   ]
  },
  {
   "cell_type": "code",
   "execution_count": 26,
   "id": "21e1bac9",
   "metadata": {},
   "outputs": [],
   "source": [
    "df.to_csv('hangeul_2350.csv', index=False, encoding='utf-8-sig')"
   ]
  },
  {
   "cell_type": "code",
   "execution_count": 27,
   "id": "5fa1bbb0",
   "metadata": {},
   "outputs": [
    {
     "data": {
      "text/html": [
       "<div>\n",
       "<style scoped>\n",
       "    .dataframe tbody tr th:only-of-type {\n",
       "        vertical-align: middle;\n",
       "    }\n",
       "\n",
       "    .dataframe tbody tr th {\n",
       "        vertical-align: top;\n",
       "    }\n",
       "\n",
       "    .dataframe thead th {\n",
       "        text-align: right;\n",
       "    }\n",
       "</style>\n",
       "<table border=\"1\" class=\"dataframe\">\n",
       "  <thead>\n",
       "    <tr style=\"text-align: right;\">\n",
       "      <th></th>\n",
       "      <th>img_path</th>\n",
       "      <th>label</th>\n",
       "    </tr>\n",
       "  </thead>\n",
       "  <tbody>\n",
       "    <tr>\n",
       "      <th>152470</th>\n",
       "      <td>/data/2_syllable/00792426.png</td>\n",
       "      <td>웽</td>\n",
       "    </tr>\n",
       "    <tr>\n",
       "      <th>152471</th>\n",
       "      <td>/data/2_syllable/01043091.png</td>\n",
       "      <td>쿼</td>\n",
       "    </tr>\n",
       "    <tr>\n",
       "      <th>0</th>\n",
       "      <td>/data/p_syllable/00234912.png</td>\n",
       "      <td>갯</td>\n",
       "    </tr>\n",
       "    <tr>\n",
       "      <th>1</th>\n",
       "      <td>/data/p_syllable/00500984.png</td>\n",
       "      <td>김</td>\n",
       "    </tr>\n",
       "    <tr>\n",
       "      <th>2</th>\n",
       "      <td>/data/p_syllable/00056511.png</td>\n",
       "      <td>넜</td>\n",
       "    </tr>\n",
       "  </tbody>\n",
       "</table>\n",
       "</div>"
      ],
      "text/plain": [
       "                             img_path label\n",
       "152470  /data/2_syllable/00792426.png     웽\n",
       "152471  /data/2_syllable/01043091.png     쿼\n",
       "0       /data/p_syllable/00234912.png     갯\n",
       "1       /data/p_syllable/00500984.png     김\n",
       "2       /data/p_syllable/00056511.png     넜"
      ]
     },
     "execution_count": 27,
     "metadata": {},
     "output_type": "execute_result"
    }
   ],
   "source": [
    "df.iloc[152470: 152475, :]"
   ]
  },
  {
   "cell_type": "code",
   "execution_count": null,
   "id": "e43272ca",
   "metadata": {},
   "outputs": [],
   "source": []
  }
 ],
 "metadata": {
  "kernelspec": {
   "display_name": "Python 3",
   "language": "python",
   "name": "python3"
  },
  "language_info": {
   "codemirror_mode": {
    "name": "ipython",
    "version": 3
   },
   "file_extension": ".py",
   "mimetype": "text/x-python",
   "name": "python",
   "nbconvert_exporter": "python",
   "pygments_lexer": "ipython3",
   "version": "3.6.13"
  }
 },
 "nbformat": 4,
 "nbformat_minor": 5
}
