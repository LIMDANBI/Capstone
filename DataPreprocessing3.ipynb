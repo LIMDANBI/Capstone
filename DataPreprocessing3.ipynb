{
 "cells": [
  {
   "cell_type": "code",
   "execution_count": 1,
   "id": "c981913e",
   "metadata": {},
   "outputs": [],
   "source": [
    "import os\n",
    "import json\n",
    "import pandas as pd\n",
    "from PIL import Image\n",
    "from tqdm import tqdm #  진행상황을 피드백으로 제공"
   ]
  },
  {
   "cell_type": "code",
   "execution_count": 2,
   "id": "39f5b2ce",
   "metadata": {},
   "outputs": [
    {
     "name": "stdout",
     "output_type": "stream",
     "text": [
      "checkpoint_dir\t\t  DataPreprocessing3.ipynb  __pycache__\r\n",
      "custom_dataset.ipynb\t  DataPreprocessing.ipynb   run.ipynb\r\n",
      "custom_dataset.py\t  img_check.ipynb\t    train.ipynb\r\n",
      "data\t\t\t  img_preprocessing.ipynb   train.py\r\n",
      "DataLoader.ipynb\t  MNIST\r\n",
      "Datapreprocessing2.ipynb  model\r\n"
     ]
    }
   ],
   "source": [
    "!ls"
   ]
  },
  {
   "cell_type": "code",
   "execution_count": 3,
   "id": "f20e7edb",
   "metadata": {},
   "outputs": [
    {
     "name": "stdout",
     "output_type": "stream",
     "text": [
      "/home/danbibibi/jupyter/data\n"
     ]
    }
   ],
   "source": [
    "cd data"
   ]
  },
  {
   "cell_type": "code",
   "execution_count": 4,
   "id": "58e40ce4",
   "metadata": {},
   "outputs": [
    {
     "name": "stdout",
     "output_type": "stream",
     "text": [
      "1_syllable\t\t     hangeul_1.csv\t  printed_data_info.json\r\n",
      "2_syllable\t\t     hangeul_2350.csv\t  printed_hangeul_2350.csv\r\n",
      "hand_hangeul_2350.csv\t     hangeul_2350_V2.csv  p_syllable\r\n",
      "handwriting_data_info1.json  hangeul_2.csv\t  textgenerator\r\n"
     ]
    }
   ],
   "source": [
    "!ls"
   ]
  },
  {
   "cell_type": "code",
   "execution_count": 5,
   "id": "ebbe11c1",
   "metadata": {},
   "outputs": [],
   "source": [
    "path = '/home/danbibibi/jupyter/data/textgenerator/'\n",
    "file_list = os.listdir(path)"
   ]
  },
  {
   "cell_type": "code",
   "execution_count": 6,
   "id": "1be302aa",
   "metadata": {},
   "outputs": [
    {
     "data": {
      "text/plain": [
       "65228"
      ]
     },
     "execution_count": 6,
     "metadata": {},
     "output_type": "execute_result"
    }
   ],
   "source": [
    "len(file_list)"
   ]
  },
  {
   "cell_type": "code",
   "execution_count": 7,
   "id": "b433b70c",
   "metadata": {},
   "outputs": [
    {
     "data": {
      "text/plain": [
       "'햄_3.jpg'"
      ]
     },
     "execution_count": 7,
     "metadata": {},
     "output_type": "execute_result"
    }
   ],
   "source": [
    "file_list[1]"
   ]
  },
  {
   "cell_type": "code",
   "execution_count": 8,
   "id": "44a5b28d",
   "metadata": {},
   "outputs": [
    {
     "data": {
      "text/plain": [
       "'햄'"
      ]
     },
     "execution_count": 8,
     "metadata": {},
     "output_type": "execute_result"
    }
   ],
   "source": [
    "file_list[1][0]"
   ]
  },
  {
   "cell_type": "code",
   "execution_count": 10,
   "id": "0f89f138",
   "metadata": {},
   "outputs": [
    {
     "name": "stderr",
     "output_type": "stream",
     "text": [
      "100%|██████████| 65228/65228 [00:00<00:00, 1607108.18it/s]\n"
     ]
    }
   ],
   "source": [
    "path = 'textgenerator/'\n",
    "path_list = []\n",
    "lable_list = []\n",
    "for i in tqdm(file_list):\n",
    "    path_list.append(path+i)\n",
    "    lable_list.append(i[0])"
   ]
  },
  {
   "cell_type": "code",
   "execution_count": 12,
   "id": "aded4bdf",
   "metadata": {},
   "outputs": [
    {
     "data": {
      "text/plain": [
       "65228"
      ]
     },
     "execution_count": 12,
     "metadata": {},
     "output_type": "execute_result"
    }
   ],
   "source": [
    "len(path_list)"
   ]
  },
  {
   "cell_type": "code",
   "execution_count": 20,
   "id": "82de69f0",
   "metadata": {},
   "outputs": [],
   "source": [
    "df = pd.DataFrame({'img_path': path_list, 'label': lable_list})"
   ]
  },
  {
   "cell_type": "code",
   "execution_count": 21,
   "id": "ff091a26",
   "metadata": {},
   "outputs": [
    {
     "data": {
      "text/html": [
       "<div>\n",
       "<style scoped>\n",
       "    .dataframe tbody tr th:only-of-type {\n",
       "        vertical-align: middle;\n",
       "    }\n",
       "\n",
       "    .dataframe tbody tr th {\n",
       "        vertical-align: top;\n",
       "    }\n",
       "\n",
       "    .dataframe thead th {\n",
       "        text-align: right;\n",
       "    }\n",
       "</style>\n",
       "<table border=\"1\" class=\"dataframe\">\n",
       "  <thead>\n",
       "    <tr style=\"text-align: right;\">\n",
       "      <th></th>\n",
       "      <th>img_path</th>\n",
       "      <th>label</th>\n",
       "    </tr>\n",
       "  </thead>\n",
       "  <tbody>\n",
       "    <tr>\n",
       "      <th>0</th>\n",
       "      <td>textgenerator/캬_8.jpg</td>\n",
       "      <td>캬</td>\n",
       "    </tr>\n",
       "    <tr>\n",
       "      <th>1</th>\n",
       "      <td>textgenerator/햄_3.jpg</td>\n",
       "      <td>햄</td>\n",
       "    </tr>\n",
       "    <tr>\n",
       "      <th>2</th>\n",
       "      <td>textgenerator/낯_5.jpg</td>\n",
       "      <td>낯</td>\n",
       "    </tr>\n",
       "    <tr>\n",
       "      <th>3</th>\n",
       "      <td>textgenerator/철_30.jpg</td>\n",
       "      <td>철</td>\n",
       "    </tr>\n",
       "    <tr>\n",
       "      <th>4</th>\n",
       "      <td>textgenerator/퀄_11.jpg</td>\n",
       "      <td>퀄</td>\n",
       "    </tr>\n",
       "    <tr>\n",
       "      <th>...</th>\n",
       "      <td>...</td>\n",
       "      <td>...</td>\n",
       "    </tr>\n",
       "    <tr>\n",
       "      <th>65223</th>\n",
       "      <td>textgenerator/쯧_39.jpg</td>\n",
       "      <td>쯧</td>\n",
       "    </tr>\n",
       "    <tr>\n",
       "      <th>65224</th>\n",
       "      <td>textgenerator/데_24.jpg</td>\n",
       "      <td>데</td>\n",
       "    </tr>\n",
       "    <tr>\n",
       "      <th>65225</th>\n",
       "      <td>textgenerator/훗_6.jpg</td>\n",
       "      <td>훗</td>\n",
       "    </tr>\n",
       "    <tr>\n",
       "      <th>65226</th>\n",
       "      <td>textgenerator/폅_5.jpg</td>\n",
       "      <td>폅</td>\n",
       "    </tr>\n",
       "    <tr>\n",
       "      <th>65227</th>\n",
       "      <td>textgenerator/겄_27.jpg</td>\n",
       "      <td>겄</td>\n",
       "    </tr>\n",
       "  </tbody>\n",
       "</table>\n",
       "<p>65228 rows × 2 columns</p>\n",
       "</div>"
      ],
      "text/plain": [
       "                     img_path label\n",
       "0       textgenerator/캬_8.jpg     캬\n",
       "1       textgenerator/햄_3.jpg     햄\n",
       "2       textgenerator/낯_5.jpg     낯\n",
       "3      textgenerator/철_30.jpg     철\n",
       "4      textgenerator/퀄_11.jpg     퀄\n",
       "...                       ...   ...\n",
       "65223  textgenerator/쯧_39.jpg     쯧\n",
       "65224  textgenerator/데_24.jpg     데\n",
       "65225   textgenerator/훗_6.jpg     훗\n",
       "65226   textgenerator/폅_5.jpg     폅\n",
       "65227  textgenerator/겄_27.jpg     겄\n",
       "\n",
       "[65228 rows x 2 columns]"
      ]
     },
     "execution_count": 21,
     "metadata": {},
     "output_type": "execute_result"
    }
   ],
   "source": [
    "df"
   ]
  },
  {
   "cell_type": "code",
   "execution_count": 23,
   "id": "b16450c1",
   "metadata": {},
   "outputs": [],
   "source": [
    "df2 = pd.read_csv('/home/danbibibi/jupyter/data/hangeul_2350.csv')"
   ]
  },
  {
   "cell_type": "code",
   "execution_count": 24,
   "id": "c460d09f",
   "metadata": {},
   "outputs": [
    {
     "data": {
      "text/html": [
       "<div>\n",
       "<style scoped>\n",
       "    .dataframe tbody tr th:only-of-type {\n",
       "        vertical-align: middle;\n",
       "    }\n",
       "\n",
       "    .dataframe tbody tr th {\n",
       "        vertical-align: top;\n",
       "    }\n",
       "\n",
       "    .dataframe thead th {\n",
       "        text-align: right;\n",
       "    }\n",
       "</style>\n",
       "<table border=\"1\" class=\"dataframe\">\n",
       "  <thead>\n",
       "    <tr style=\"text-align: right;\">\n",
       "      <th></th>\n",
       "      <th>img_path</th>\n",
       "      <th>label</th>\n",
       "    </tr>\n",
       "  </thead>\n",
       "  <tbody>\n",
       "    <tr>\n",
       "      <th>0</th>\n",
       "      <td>1_syllable/00180981.png</td>\n",
       "      <td>탈</td>\n",
       "    </tr>\n",
       "    <tr>\n",
       "      <th>1</th>\n",
       "      <td>1_syllable/00111687.png</td>\n",
       "      <td>쒜</td>\n",
       "    </tr>\n",
       "    <tr>\n",
       "      <th>2</th>\n",
       "      <td>1_syllable/00003308.png</td>\n",
       "      <td>얍</td>\n",
       "    </tr>\n",
       "    <tr>\n",
       "      <th>3</th>\n",
       "      <td>1_syllable/00037623.png</td>\n",
       "      <td>꾕</td>\n",
       "    </tr>\n",
       "    <tr>\n",
       "      <th>4</th>\n",
       "      <td>1_syllable/00175405.png</td>\n",
       "      <td>겐</td>\n",
       "    </tr>\n",
       "    <tr>\n",
       "      <th>...</th>\n",
       "      <td>...</td>\n",
       "      <td>...</td>\n",
       "    </tr>\n",
       "    <tr>\n",
       "      <th>264469</th>\n",
       "      <td>p_syllable/00461411.png</td>\n",
       "      <td>콩</td>\n",
       "    </tr>\n",
       "    <tr>\n",
       "      <th>264470</th>\n",
       "      <td>p_syllable/00122479.png</td>\n",
       "      <td>탁</td>\n",
       "    </tr>\n",
       "    <tr>\n",
       "      <th>264471</th>\n",
       "      <td>p_syllable/00437537.png</td>\n",
       "      <td>손</td>\n",
       "    </tr>\n",
       "    <tr>\n",
       "      <th>264472</th>\n",
       "      <td>p_syllable/00195419.png</td>\n",
       "      <td>붑</td>\n",
       "    </tr>\n",
       "    <tr>\n",
       "      <th>264473</th>\n",
       "      <td>p_syllable/00242600.png</td>\n",
       "      <td>헌</td>\n",
       "    </tr>\n",
       "  </tbody>\n",
       "</table>\n",
       "<p>264474 rows × 2 columns</p>\n",
       "</div>"
      ],
      "text/plain": [
       "                       img_path label\n",
       "0       1_syllable/00180981.png     탈\n",
       "1       1_syllable/00111687.png     쒜\n",
       "2       1_syllable/00003308.png     얍\n",
       "3       1_syllable/00037623.png     꾕\n",
       "4       1_syllable/00175405.png     겐\n",
       "...                         ...   ...\n",
       "264469  p_syllable/00461411.png     콩\n",
       "264470  p_syllable/00122479.png     탁\n",
       "264471  p_syllable/00437537.png     손\n",
       "264472  p_syllable/00195419.png     붑\n",
       "264473  p_syllable/00242600.png     헌\n",
       "\n",
       "[264474 rows x 2 columns]"
      ]
     },
     "execution_count": 24,
     "metadata": {},
     "output_type": "execute_result"
    }
   ],
   "source": [
    "df2"
   ]
  },
  {
   "cell_type": "code",
   "execution_count": 25,
   "id": "189706eb",
   "metadata": {},
   "outputs": [],
   "source": [
    "final = pd.concat([df, df2])"
   ]
  },
  {
   "cell_type": "code",
   "execution_count": 32,
   "id": "a03895a2",
   "metadata": {},
   "outputs": [
    {
     "data": {
      "text/html": [
       "<div>\n",
       "<style scoped>\n",
       "    .dataframe tbody tr th:only-of-type {\n",
       "        vertical-align: middle;\n",
       "    }\n",
       "\n",
       "    .dataframe tbody tr th {\n",
       "        vertical-align: top;\n",
       "    }\n",
       "\n",
       "    .dataframe thead th {\n",
       "        text-align: right;\n",
       "    }\n",
       "</style>\n",
       "<table border=\"1\" class=\"dataframe\">\n",
       "  <thead>\n",
       "    <tr style=\"text-align: right;\">\n",
       "      <th></th>\n",
       "      <th>img_path</th>\n",
       "      <th>label</th>\n",
       "    </tr>\n",
       "  </thead>\n",
       "  <tbody>\n",
       "    <tr>\n",
       "      <th>0</th>\n",
       "      <td>textgenerator/캬_8.jpg</td>\n",
       "      <td>캬</td>\n",
       "    </tr>\n",
       "    <tr>\n",
       "      <th>1</th>\n",
       "      <td>textgenerator/햄_3.jpg</td>\n",
       "      <td>햄</td>\n",
       "    </tr>\n",
       "    <tr>\n",
       "      <th>2</th>\n",
       "      <td>textgenerator/낯_5.jpg</td>\n",
       "      <td>낯</td>\n",
       "    </tr>\n",
       "    <tr>\n",
       "      <th>3</th>\n",
       "      <td>textgenerator/철_30.jpg</td>\n",
       "      <td>철</td>\n",
       "    </tr>\n",
       "    <tr>\n",
       "      <th>4</th>\n",
       "      <td>textgenerator/퀄_11.jpg</td>\n",
       "      <td>퀄</td>\n",
       "    </tr>\n",
       "    <tr>\n",
       "      <th>...</th>\n",
       "      <td>...</td>\n",
       "      <td>...</td>\n",
       "    </tr>\n",
       "    <tr>\n",
       "      <th>264469</th>\n",
       "      <td>p_syllable/00461411.png</td>\n",
       "      <td>콩</td>\n",
       "    </tr>\n",
       "    <tr>\n",
       "      <th>264470</th>\n",
       "      <td>p_syllable/00122479.png</td>\n",
       "      <td>탁</td>\n",
       "    </tr>\n",
       "    <tr>\n",
       "      <th>264471</th>\n",
       "      <td>p_syllable/00437537.png</td>\n",
       "      <td>손</td>\n",
       "    </tr>\n",
       "    <tr>\n",
       "      <th>264472</th>\n",
       "      <td>p_syllable/00195419.png</td>\n",
       "      <td>붑</td>\n",
       "    </tr>\n",
       "    <tr>\n",
       "      <th>264473</th>\n",
       "      <td>p_syllable/00242600.png</td>\n",
       "      <td>헌</td>\n",
       "    </tr>\n",
       "  </tbody>\n",
       "</table>\n",
       "<p>329702 rows × 2 columns</p>\n",
       "</div>"
      ],
      "text/plain": [
       "                       img_path label\n",
       "0         textgenerator/캬_8.jpg     캬\n",
       "1         textgenerator/햄_3.jpg     햄\n",
       "2         textgenerator/낯_5.jpg     낯\n",
       "3        textgenerator/철_30.jpg     철\n",
       "4        textgenerator/퀄_11.jpg     퀄\n",
       "...                         ...   ...\n",
       "264469  p_syllable/00461411.png     콩\n",
       "264470  p_syllable/00122479.png     탁\n",
       "264471  p_syllable/00437537.png     손\n",
       "264472  p_syllable/00195419.png     붑\n",
       "264473  p_syllable/00242600.png     헌\n",
       "\n",
       "[329702 rows x 2 columns]"
      ]
     },
     "execution_count": 32,
     "metadata": {},
     "output_type": "execute_result"
    }
   ],
   "source": [
    "final"
   ]
  },
  {
   "cell_type": "code",
   "execution_count": 31,
   "id": "7ca2c029",
   "metadata": {},
   "outputs": [],
   "source": [
    "final.to_csv('hangeul_2350.csv', index=False, encoding='utf-8-sig')"
   ]
  },
  {
   "cell_type": "code",
   "execution_count": null,
   "id": "084b00d7",
   "metadata": {},
   "outputs": [],
   "source": []
  }
 ],
 "metadata": {
  "kernelspec": {
   "display_name": "Python 3",
   "language": "python",
   "name": "python3"
  },
  "language_info": {
   "codemirror_mode": {
    "name": "ipython",
    "version": 3
   },
   "file_extension": ".py",
   "mimetype": "text/x-python",
   "name": "python",
   "nbconvert_exporter": "python",
   "pygments_lexer": "ipython3",
   "version": "3.6.13"
  }
 },
 "nbformat": 4,
 "nbformat_minor": 5
}
