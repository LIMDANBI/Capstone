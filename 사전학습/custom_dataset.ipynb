{
 "cells": [
  {
   "cell_type": "code",
   "execution_count": 1,
   "id": "f492c00f",
   "metadata": {},
   "outputs": [],
   "source": [
    "import torch\n",
    "from torch.utils.data import Dataset\n",
    "import torchvision.transforms as transforms\n",
    "\n",
    "from PIL import Image, ImageOps\n",
    "import pandas as pd\n",
    "import numpy as np"
   ]
  },
  {
   "cell_type": "code",
   "execution_count": 2,
   "id": "ef29548a",
   "metadata": {},
   "outputs": [
    {
     "name": "stdout",
     "output_type": "stream",
     "text": [
      "Device: cuda\n"
     ]
    }
   ],
   "source": [
    "device = torch.device(\"cuda\" if torch.cuda.is_available() else \"cpu\")\n",
    "print('Device:', device)"
   ]
  },
  {
   "cell_type": "code",
   "execution_count": 3,
   "id": "1383cdf5",
   "metadata": {},
   "outputs": [],
   "source": [
    "df = pd.read_csv('./data/hangeul_2350.csv')"
   ]
  },
  {
   "cell_type": "code",
   "execution_count": 4,
   "id": "31aabeff",
   "metadata": {},
   "outputs": [
    {
     "data": {
      "text/html": [
       "<div>\n",
       "<style scoped>\n",
       "    .dataframe tbody tr th:only-of-type {\n",
       "        vertical-align: middle;\n",
       "    }\n",
       "\n",
       "    .dataframe tbody tr th {\n",
       "        vertical-align: top;\n",
       "    }\n",
       "\n",
       "    .dataframe thead th {\n",
       "        text-align: right;\n",
       "    }\n",
       "</style>\n",
       "<table border=\"1\" class=\"dataframe\">\n",
       "  <thead>\n",
       "    <tr style=\"text-align: right;\">\n",
       "      <th></th>\n",
       "      <th>img_path</th>\n",
       "      <th>label</th>\n",
       "    </tr>\n",
       "  </thead>\n",
       "  <tbody>\n",
       "    <tr>\n",
       "      <th>0</th>\n",
       "      <td>/data/1_syllable/00165717.png</td>\n",
       "      <td>훌</td>\n",
       "    </tr>\n",
       "    <tr>\n",
       "      <th>1</th>\n",
       "      <td>/data/1_syllable/00094922.png</td>\n",
       "      <td>흴</td>\n",
       "    </tr>\n",
       "    <tr>\n",
       "      <th>2</th>\n",
       "      <td>/data/1_syllable/00163366.png</td>\n",
       "      <td>뭡</td>\n",
       "    </tr>\n",
       "    <tr>\n",
       "      <th>3</th>\n",
       "      <td>/data/1_syllable/00189967.png</td>\n",
       "      <td>딪</td>\n",
       "    </tr>\n",
       "    <tr>\n",
       "      <th>4</th>\n",
       "      <td>/data/1_syllable/00135120.png</td>\n",
       "      <td>염</td>\n",
       "    </tr>\n",
       "    <tr>\n",
       "      <th>...</th>\n",
       "      <td>...</td>\n",
       "      <td>...</td>\n",
       "    </tr>\n",
       "    <tr>\n",
       "      <th>152467</th>\n",
       "      <td>/data/2_syllable/01188949.png</td>\n",
       "      <td>붓</td>\n",
       "    </tr>\n",
       "    <tr>\n",
       "      <th>152468</th>\n",
       "      <td>/data/2_syllable/00549013.png</td>\n",
       "      <td>뎄</td>\n",
       "    </tr>\n",
       "    <tr>\n",
       "      <th>152469</th>\n",
       "      <td>/data/2_syllable/00380048.png</td>\n",
       "      <td>웍</td>\n",
       "    </tr>\n",
       "    <tr>\n",
       "      <th>152470</th>\n",
       "      <td>/data/2_syllable/00859689.png</td>\n",
       "      <td>윈</td>\n",
       "    </tr>\n",
       "    <tr>\n",
       "      <th>152471</th>\n",
       "      <td>/data/2_syllable/00499030.png</td>\n",
       "      <td>잰</td>\n",
       "    </tr>\n",
       "  </tbody>\n",
       "</table>\n",
       "<p>152472 rows × 2 columns</p>\n",
       "</div>"
      ],
      "text/plain": [
       "                             img_path label\n",
       "0       /data/1_syllable/00165717.png     훌\n",
       "1       /data/1_syllable/00094922.png     흴\n",
       "2       /data/1_syllable/00163366.png     뭡\n",
       "3       /data/1_syllable/00189967.png     딪\n",
       "4       /data/1_syllable/00135120.png     염\n",
       "...                               ...   ...\n",
       "152467  /data/2_syllable/01188949.png     붓\n",
       "152468  /data/2_syllable/00549013.png     뎄\n",
       "152469  /data/2_syllable/00380048.png     웍\n",
       "152470  /data/2_syllable/00859689.png     윈\n",
       "152471  /data/2_syllable/00499030.png     잰\n",
       "\n",
       "[152472 rows x 2 columns]"
      ]
     },
     "execution_count": 4,
     "metadata": {},
     "output_type": "execute_result"
    }
   ],
   "source": [
    "df"
   ]
  },
  {
   "cell_type": "code",
   "execution_count": 5,
   "id": "aaa18461",
   "metadata": {},
   "outputs": [],
   "source": [
    "# transfrom\n",
    "transform_train = transforms.Compose([\n",
    "    transforms.Resize((224, 224)),\n",
    "    transforms.ToTensor()\n",
    "])"
   ]
  },
  {
   "cell_type": "code",
   "execution_count": 6,
   "id": "f329b97d",
   "metadata": {},
   "outputs": [],
   "source": [
    "class path_to_img(Dataset):\n",
    "    def __init__(self, img_path, labels, transform):  # 데이터셋 전처리\n",
    "        self.img_path = img_path\n",
    "        self.labels = labels\n",
    "        self.transform = transform\n",
    "        \n",
    "    def __len__(self):  # 데이터셋 길이 (총 샘플의 수)\n",
    "        return len(self.img_path)\n",
    "    \n",
    "    def __getitem__(self, idx):  # 데이터셋에서 특정 샘플을 가져옴\n",
    "        image = ImageOps.grayscale(Image.open('.'+self.img_path[idx]))\n",
    "        image = self.transform(image)\n",
    "        return image, self.labels[idx]"
   ]
  },
  {
   "cell_type": "code",
   "execution_count": 7,
   "id": "6c9f3655",
   "metadata": {},
   "outputs": [],
   "source": [
    "df_X = df.iloc[:, 0] # img_path\n",
    "df_y = df.iloc[:, 1] # label"
   ]
  },
  {
   "cell_type": "code",
   "execution_count": 8,
   "id": "fa0bd150",
   "metadata": {},
   "outputs": [
    {
     "data": {
      "text/plain": [
       "0         /data/1_syllable/00165717.png\n",
       "1         /data/1_syllable/00094922.png\n",
       "2         /data/1_syllable/00163366.png\n",
       "3         /data/1_syllable/00189967.png\n",
       "4         /data/1_syllable/00135120.png\n",
       "                      ...              \n",
       "152467    /data/2_syllable/01188949.png\n",
       "152468    /data/2_syllable/00549013.png\n",
       "152469    /data/2_syllable/00380048.png\n",
       "152470    /data/2_syllable/00859689.png\n",
       "152471    /data/2_syllable/00499030.png\n",
       "Name: img_path, Length: 152472, dtype: object"
      ]
     },
     "execution_count": 8,
     "metadata": {},
     "output_type": "execute_result"
    }
   ],
   "source": [
    "df_X"
   ]
  },
  {
   "cell_type": "code",
   "execution_count": 9,
   "id": "a17aa41c",
   "metadata": {},
   "outputs": [
    {
     "data": {
      "text/plain": [
       "0         훌\n",
       "1         흴\n",
       "2         뭡\n",
       "3         딪\n",
       "4         염\n",
       "         ..\n",
       "152467    붓\n",
       "152468    뎄\n",
       "152469    웍\n",
       "152470    윈\n",
       "152471    잰\n",
       "Name: label, Length: 152472, dtype: object"
      ]
     },
     "execution_count": 9,
     "metadata": {},
     "output_type": "execute_result"
    }
   ],
   "source": [
    "df_y"
   ]
  },
  {
   "cell_type": "code",
   "execution_count": 10,
   "id": "458090e0",
   "metadata": {},
   "outputs": [
    {
     "name": "stdout",
     "output_type": "stream",
     "text": [
      "152472\n"
     ]
    }
   ],
   "source": [
    "dataset = path_to_img(df_X, df_y, transform_train)\n",
    "print(len(dataset))"
   ]
  },
  {
   "cell_type": "code",
   "execution_count": 11,
   "id": "bc6feeaf",
   "metadata": {},
   "outputs": [],
   "source": [
    "img, label = dataset[0]"
   ]
  },
  {
   "cell_type": "code",
   "execution_count": 12,
   "id": "87a8d279",
   "metadata": {},
   "outputs": [
    {
     "data": {
      "text/plain": [
       "tensor([[[0.7608, 0.8588, 0.9137,  ..., 0.8392, 0.8118, 0.7608],\n",
       "         [0.8118, 0.9098, 0.9647,  ..., 0.9647, 0.9373, 0.8824],\n",
       "         [0.8471, 0.9373, 0.9882,  ..., 0.9961, 0.9647, 0.9098],\n",
       "         ...,\n",
       "         [0.9059, 0.9647, 0.9882,  ..., 0.9725, 0.9059, 0.7725],\n",
       "         [0.9020, 0.9569, 0.9843,  ..., 0.9843, 0.9176, 0.7882],\n",
       "         [0.8824, 0.9490, 0.9882,  ..., 0.9922, 0.9255, 0.7961]]])"
      ]
     },
     "execution_count": 12,
     "metadata": {},
     "output_type": "execute_result"
    }
   ],
   "source": [
    "img"
   ]
  },
  {
   "cell_type": "code",
   "execution_count": 13,
   "id": "4be48ff4",
   "metadata": {},
   "outputs": [
    {
     "data": {
      "text/plain": [
       "'훌'"
      ]
     },
     "execution_count": 13,
     "metadata": {},
     "output_type": "execute_result"
    }
   ],
   "source": [
    "label"
   ]
  }
 ],
 "metadata": {
  "kernelspec": {
   "display_name": "Python 3",
   "language": "python",
   "name": "python3"
  },
  "language_info": {
   "codemirror_mode": {
    "name": "ipython",
    "version": 3
   },
   "file_extension": ".py",
   "mimetype": "text/x-python",
   "name": "python",
   "nbconvert_exporter": "python",
   "pygments_lexer": "ipython3",
   "version": "3.6.13"
  }
 },
 "nbformat": 4,
 "nbformat_minor": 5
}
