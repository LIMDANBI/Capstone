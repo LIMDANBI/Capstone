{
  "nbformat": 4,
  "nbformat_minor": 0,
  "metadata": {
    "colab": {
      "name": "unzip.ipynb",
      "provenance": [],
      "mount_file_id": "1BdjMx46wl-rkUnx5nLiZDCqMpCvZPxqK",
      "authorship_tag": "ABX9TyM0EPKL71PAXCMrbXt1bT+Z",
      "include_colab_link": true
    },
    "kernelspec": {
      "name": "python3",
      "display_name": "Python 3"
    },
    "language_info": {
      "name": "python"
    }
  },
  "cells": [
    {
      "cell_type": "markdown",
      "metadata": {
        "id": "view-in-github",
        "colab_type": "text"
      },
      "source": [
        "<a href=\"https://colab.research.google.com/github/LIMDANBI/Capstone/blob/main/%EC%82%AC%EC%A0%84%ED%95%99%EC%8A%B5/unzip.ipynb\" target=\"_parent\"><img src=\"https://colab.research.google.com/assets/colab-badge.svg\" alt=\"Open In Colab\"/></a>"
      ]
    },
    {
      "cell_type": "code",
      "metadata": {
        "colab": {
          "base_uri": "https://localhost:8080/"
        },
        "id": "uKy3Wi-2fccB",
        "outputId": "713bab6d-e5d7-4741-e618-51b8d2d30177"
      },
      "source": [
        "cd /content/drive/MyDrive/capstone/한국어 글자체 이미지/01.손글씨/"
      ],
      "execution_count": 6,
      "outputs": [
        {
          "output_type": "stream",
          "name": "stdout",
          "text": [
            "/content/drive/MyDrive/capstone/한국어 글자체 이미지/01.손글씨\n"
          ]
        }
      ]
    },
    {
      "cell_type": "code",
      "metadata": {
        "colab": {
          "base_uri": "https://localhost:8080/"
        },
        "id": "c72kvQ6NgO6T",
        "outputId": "07d032a7-2bb3-4321-ad12-401ecc31b129"
      },
      "source": [
        "!ls"
      ],
      "execution_count": 7,
      "outputs": [
        {
          "output_type": "stream",
          "name": "stdout",
          "text": [
            "01_handwriting_syllable_images.zip  2_syllable\n",
            "02_handwriting_syllable_images.zip  handwriting_data_info1.json\n"
          ]
        }
      ]
    },
    {
      "cell_type": "code",
      "metadata": {
        "id": "MRnPQNAeEjuB"
      },
      "source": [
        "!unzip -qq \"/content/drive/MyDrive/capstone/한국어 글자체 이미지/01.손글씨/01_handwriting_syllable_images.zip\""
      ],
      "execution_count": 8,
      "outputs": []
    },
    {
      "cell_type": "code",
      "metadata": {
        "id": "7LKtB9LFhG-u"
      },
      "source": [
        "# !unzip -qq \"/content/drive/MyDrive/capstone/한국어 글자체 이미지/01.손글씨/02_handwriting_syllable_images.zip\""
      ],
      "execution_count": 10,
      "outputs": []
    },
    {
      "cell_type": "code",
      "metadata": {
        "colab": {
          "base_uri": "https://localhost:8080/"
        },
        "id": "xrVoJtSEhZdv",
        "outputId": "be4899c4-bca1-4cae-f933-0e892f800f8b"
      },
      "source": [
        "!ls"
      ],
      "execution_count": 10,
      "outputs": [
        {
          "output_type": "stream",
          "name": "stdout",
          "text": [
            "01_handwriting_syllable_images.zip  1_syllable\thandwriting_data_info1.json\n",
            "02_handwriting_syllable_images.zip  2_syllable\n"
          ]
        }
      ]
    }
  ]
}