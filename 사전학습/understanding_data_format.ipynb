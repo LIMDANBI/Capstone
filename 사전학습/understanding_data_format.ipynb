{
  "nbformat": 4,
  "nbformat_minor": 0,
  "metadata": {
    "colab": {
      "name": "understanding_data_format.ipynb",
      "provenance": [],
      "collapsed_sections": [],
      "mount_file_id": "1bgKe4AXxjhC-sKQqns4WBhKPyDYfe4iC",
      "authorship_tag": "ABX9TyObjKRS4pvhqWJm6livsAIi",
      "include_colab_link": true
    },
    "kernelspec": {
      "name": "python3",
      "display_name": "Python 3"
    },
    "language_info": {
      "name": "python"
    }
  },
  "cells": [
    {
      "cell_type": "markdown",
      "metadata": {
        "id": "view-in-github",
        "colab_type": "text"
      },
      "source": [
        "<a href=\"https://colab.research.google.com/github/LIMDANBI/Capstone/blob/main/%EC%82%AC%EC%A0%84%ED%95%99%EC%8A%B5/understanding_data_format.ipynb\" target=\"_parent\"><img src=\"https://colab.research.google.com/assets/colab-badge.svg\" alt=\"Open In Colab\"/></a>"
      ]
    },
    {
      "cell_type": "code",
      "metadata": {
        "id": "diGCfx-9uHjV"
      },
      "source": [
        "import json"
      ],
      "execution_count": null,
      "outputs": []
    },
    {
      "cell_type": "code",
      "metadata": {
        "id": "-3iF7Lw4uMs-"
      },
      "source": [
        "from pprint import pprint \n",
        "with open('/content/drive/MyDrive/capstone/한국어 글자체 이미지/01.손글씨/handwriting_data_info1.json') as data_file:\n",
        "  local = json.load(data_file)"
      ],
      "execution_count": null,
      "outputs": []
    },
    {
      "cell_type": "code",
      "metadata": {
        "colab": {
          "base_uri": "https://localhost:8080/"
        },
        "id": "uj9IP4VRug_Y",
        "outputId": "11b2c229-07ca-4b62-abdc-045a2b29c7a4"
      },
      "source": [
        "type(local)"
      ],
      "execution_count": null,
      "outputs": [
        {
          "output_type": "execute_result",
          "data": {
            "text/plain": [
              "dict"
            ]
          },
          "metadata": {},
          "execution_count": 7
        }
      ]
    },
    {
      "cell_type": "code",
      "metadata": {
        "colab": {
          "base_uri": "https://localhost:8080/"
        },
        "id": "LQrOdXWmyiz2",
        "outputId": "71ea6c92-3941-4d1f-d92c-e132386be8f9"
      },
      "source": [
        "local.keys()"
      ],
      "execution_count": null,
      "outputs": [
        {
          "output_type": "execute_result",
          "data": {
            "text/plain": [
              "dict_keys(['info', 'images', 'annotations', 'licenses'])"
            ]
          },
          "metadata": {},
          "execution_count": 10
        }
      ]
    },
    {
      "cell_type": "code",
      "metadata": {
        "colab": {
          "base_uri": "https://localhost:8080/"
        },
        "id": "rLEdw2n9zG4Q",
        "outputId": "79e22f18-7c00-4420-8c50-aeac837b29e3"
      },
      "source": [
        "type(local['images'])\n"
      ],
      "execution_count": null,
      "outputs": [
        {
          "output_type": "execute_result",
          "data": {
            "text/plain": [
              "list"
            ]
          },
          "metadata": {},
          "execution_count": 15
        }
      ]
    },
    {
      "cell_type": "code",
      "metadata": {
        "colab": {
          "base_uri": "https://localhost:8080/"
        },
        "id": "Y3rUC9LT0KEp",
        "outputId": "73bf9409-15d6-4c68-957d-4aabd50411c4"
      },
      "source": [
        "print(type(local['info']))\n",
        "print(local['info'].keys())"
      ],
      "execution_count": null,
      "outputs": [
        {
          "output_type": "stream",
          "name": "stdout",
          "text": [
            "<class 'dict'>\n",
            "dict_keys(['name', 'date_created'])\n"
          ]
        }
      ]
    },
    {
      "cell_type": "code",
      "metadata": {
        "colab": {
          "base_uri": "https://localhost:8080/"
        },
        "id": "GMcBLQHg0Pf_",
        "outputId": "bffa1036-b358-4e87-b9f7-9bfd5daf5d31"
      },
      "source": [
        "type(local['annotations'])"
      ],
      "execution_count": null,
      "outputs": [
        {
          "output_type": "execute_result",
          "data": {
            "text/plain": [
              "list"
            ]
          },
          "metadata": {},
          "execution_count": 24
        }
      ]
    },
    {
      "cell_type": "code",
      "metadata": {
        "colab": {
          "base_uri": "https://localhost:8080/"
        },
        "id": "A8dmJ3Aj0SWn",
        "outputId": "e8087f6e-b192-4227-d2b9-ccd70a2b4ef9"
      },
      "source": [
        "type(local['licenses'])"
      ],
      "execution_count": null,
      "outputs": [
        {
          "output_type": "execute_result",
          "data": {
            "text/plain": [
              "list"
            ]
          },
          "metadata": {},
          "execution_count": 25
        }
      ]
    },
    {
      "cell_type": "code",
      "metadata": {
        "colab": {
          "base_uri": "https://localhost:8080/"
        },
        "id": "AV9Hw2YZ0h6C",
        "outputId": "b65938d3-387a-485e-c46f-9df6173e6474"
      },
      "source": [
        "local['annotations'][0]"
      ],
      "execution_count": null,
      "outputs": [
        {
          "output_type": "execute_result",
          "data": {
            "text/plain": [
              "{'attributes': {'age': '28', 'gender': '여', 'job': '직장인', 'type': '문장'},\n",
              " 'id': '00000002',\n",
              " 'image_id': '00000002',\n",
              " 'text': '이 죽어갔다\"며 \"문 후보는 당시 민정수석으로 공권력 집행의 최종 결'}"
            ]
          },
          "metadata": {},
          "execution_count": 30
        }
      ]
    },
    {
      "cell_type": "code",
      "metadata": {
        "colab": {
          "base_uri": "https://localhost:8080/",
          "height": 35
        },
        "id": "9d7GpaHm0m8J",
        "outputId": "05c26b9b-f066-4889-d691-acfa186f860a"
      },
      "source": [
        "local['annotations'][0]['image_id']"
      ],
      "execution_count": null,
      "outputs": [
        {
          "output_type": "execute_result",
          "data": {
            "application/vnd.google.colaboratory.intrinsic+json": {
              "type": "string"
            },
            "text/plain": [
              "'00000002'"
            ]
          },
          "metadata": {},
          "execution_count": 31
        }
      ]
    },
    {
      "cell_type": "code",
      "metadata": {
        "colab": {
          "base_uri": "https://localhost:8080/",
          "height": 35
        },
        "id": "5AcWendT0vzk",
        "outputId": "0058ee98-3d96-4864-c270-9ea32bda856a"
      },
      "source": [
        "local['annotations'][0]['text']"
      ],
      "execution_count": null,
      "outputs": [
        {
          "output_type": "execute_result",
          "data": {
            "application/vnd.google.colaboratory.intrinsic+json": {
              "type": "string"
            },
            "text/plain": [
              "'이 죽어갔다\"며 \"문 후보는 당시 민정수석으로 공권력 집행의 최종 결'"
            ]
          },
          "metadata": {},
          "execution_count": 33
        }
      ]
    },
    {
      "cell_type": "code",
      "metadata": {
        "colab": {
          "base_uri": "https://localhost:8080/"
        },
        "id": "-Z28hw1x0xGD",
        "outputId": "ef1671c6-f8fd-4f15-cbaf-54be30d17fb6"
      },
      "source": [
        "local['images'][0]"
      ],
      "execution_count": null,
      "outputs": [
        {
          "output_type": "execute_result",
          "data": {
            "text/plain": [
              "{'file_name': '00000002.png',\n",
              " 'height': 176,\n",
              " 'id': '00000002',\n",
              " 'license': 'AI 오픈 이노베이션 허브',\n",
              " 'width': 3755}"
            ]
          },
          "metadata": {},
          "execution_count": 35
        }
      ]
    },
    {
      "cell_type": "code",
      "metadata": {
        "id": "6-pTd1d95oNj"
      },
      "source": [
        ""
      ],
      "execution_count": null,
      "outputs": []
    }
  ]
}